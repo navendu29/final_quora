{
 "cells": [
  {
   "cell_type": "code",
   "execution_count": 1,
   "metadata": {},
   "outputs": [],
   "source": [
    "import numpy as np # linear algebra\n",
    "import pandas as pd # data processing, CSV file I/O (e.g. pd.read_csv)"
   ]
  },
  {
   "cell_type": "code",
   "execution_count": 2,
   "metadata": {},
   "outputs": [],
   "source": [
    "from subprocess import check_output"
   ]
  },
  {
   "cell_type": "code",
   "execution_count": 3,
   "metadata": {},
   "outputs": [],
   "source": [
    "from sklearn.model_selection import train_test_split"
   ]
  },
  {
   "cell_type": "code",
   "execution_count": 4,
   "metadata": {},
   "outputs": [
    {
     "name": "stdout",
     "output_type": "stream",
     "text": [
      "('Shape of base training File = ', (200000, 6))\n",
      "('Shape of base training data after cleaning = ', (199999, 6))\n",
      "(4000, 6)\n",
      "(195999, 6)\n",
      "            id    qid1    qid2  \\\n",
      "140411  140411  219011   28072   \n",
      "6931      6931   13565   13566   \n",
      "115104  115104  187761  187762   \n",
      "83685    83685  141615  141616   \n",
      "42683    42683   76882   76883   \n",
      "105446  105446  173884  173885   \n",
      "17440    17440   33138   33139   \n",
      "140302  140302  222982  222983   \n",
      "31964    31964   58884   58885   \n",
      "49789    49789   88574   88575   \n",
      "160214  160214  249930   29858   \n",
      "182003  182003   13206  125506   \n",
      "161023  161023  251013  251014   \n",
      "188904  188904  287546  287547   \n",
      "7638      7638   14915   11046   \n",
      "129067  129067  207423  207424   \n",
      "90619    90619  152036  152037   \n",
      "108571  108571  178358  178359   \n",
      "157023  157023  245610  245611   \n",
      "87630    87630  147553  147554   \n",
      "75347    75347  128971  128972   \n",
      "7779      7779   15185   15186   \n",
      "25284    25284   47140   47141   \n",
      "37403    37403   68070   68071   \n",
      "98181    98181  163194  163195   \n",
      "140790  140790   25923  223671   \n",
      "188993  188993  111923  287648   \n",
      "195344  195344  295764   25025   \n",
      "178507  178507  274158  274159   \n",
      "176380  176380  271382   78546   \n",
      "...        ...     ...     ...   \n",
      "134695  134695  215234  215235   \n",
      "188234  188234  286700  259191   \n",
      "89363    89363  150151  150152   \n",
      "71653    71653  123259  123260   \n",
      "58787    58787   61062  103069   \n",
      "57018    57018   45091    5913   \n",
      "85856    85856   24297   36120   \n",
      "77817    77817  132805   33636   \n",
      "58994    58994  103410  103411   \n",
      "185932  185932  283744  283745   \n",
      "169737  169737   28603    5313   \n",
      "198222  198222    7842    2986   \n",
      "55833    55833   57326   98383   \n",
      "59756    59756  102259  104622   \n",
      "169170  169170  261862  261863   \n",
      "197318  197318  298242  298243   \n",
      "72985    72985  125305  125306   \n",
      "90249    90249  151479  151480   \n",
      "24171    24171   45194   45195   \n",
      "37612    37612   68425   16340   \n",
      "68050    68050  117667  117668   \n",
      "175022  175022  269582  269583   \n",
      "65033    65033  112921  112922   \n",
      "198976  198976  300320  186437   \n",
      "28641    28641   53091   53092   \n",
      "109653  109653  156886  179926   \n",
      "158861  158861  248100  248101   \n",
      "136836  136836  218230  218231   \n",
      "157881  157881   88005    4734   \n",
      "22605    22605   42407   42408   \n",
      "\n",
      "                                                question1  \\\n",
      "140411  What were the highlights of PM Modi's speech o...   \n",
      "6931    What would happen if the anonymous features in...   \n",
      "115104  What does Hillary Clinton think of high-skill ...   \n",
      "83685   Who has given the voice for the main character...   \n",
      "42683   When police saw my CCW (Carry a Concealed Weap...   \n",
      "105446  I run a collective with 20 small businesses. A...   \n",
      "17440        What are some good online tutorials for PTE?   \n",
      "140302  What is the connection between operating syste...   \n",
      "31964                        How do I stop thinking more?   \n",
      "49789   Why does the tripod of a camera have three leg...   \n",
      "160214             How do I know if a geeky guy likes me?   \n",
      "182003                        How do I forget first love?   \n",
      "161023  What credit card is the one that you pay the l...   \n",
      "188904              How do I deal with a violent student?   \n",
      "7638    What is a good introductory computer science b...   \n",
      "129067  What is the difference between gin, vodka, whi...   \n",
      "90619   How do I stop my Quora account from coming up ...   \n",
      "108571  What occupies the empty space freed up in the ...   \n",
      "157023  What is hydraulic system? What are some exampl...   \n",
      "87630                              Mysql with JavaScript?   \n",
      "75347                 What exactly did happen in Turkey ?   \n",
      "7779             What should I do about this girl I like?   \n",
      "25284          How often do you have to brush your teeth?   \n",
      "37403   For scientific computing, is Java useful in a ...   \n",
      "98181    How are bachelors in philosophy taught in China?   \n",
      "140790                     How do I get a book published?   \n",
      "188993                             What is particle spin?   \n",
      "195344  What is your favorite television character (wi...   \n",
      "178507              How do I find English native speaker?   \n",
      "176380                How many people read comics online?   \n",
      "...                                                   ...   \n",
      "134695  Why does any question I ask gets marked as nee...   \n",
      "188234  History of Apple Inc.: In iPhone advertisement...   \n",
      "89363   What are the most charming small towns in Turkey?   \n",
      "71653            What is the Overtime policy of Belzabar?   \n",
      "58787                  How do you root an Android tablet?   \n",
      "57018   Which candidate is currently projected to win ...   \n",
      "85856          What is the easy way to make money online?   \n",
      "77817   I currently have C's and B's. What can I chang...   \n",
      "58994   If aliens do exist, will the government try to...   \n",
      "185932  What did the Proclamation of 1763 state? What ...   \n",
      "169737  Does height increase after 21? How can I get t...   \n",
      "198222              How can I speak English like natives?   \n",
      "55833   Is there an easy way to import Outlook PST fil...   \n",
      "59756   Car Maintenance: Should I replace the full win...   \n",
      "169170                  What is an Agricultural Engineer?   \n",
      "197318  The Dark Knight Rises (2012 movie): How does B...   \n",
      "72985                         What is the age of consent?   \n",
      "90249   Who is the most enigmatic Game of Thrones char...   \n",
      "24171   What are notable differences in the table mann...   \n",
      "37612   What is the Sahara, and how do the average tem...   \n",
      "68050    How can I earn more money with the money I have?   \n",
      "175022  Why do most guys seem to prefer mature looking...   \n",
      "65033                        How are citrus hybrids made?   \n",
      "198976                                  Who is a blogger?   \n",
      "28641       What were the strengths of the Mughal Empire?   \n",
      "109653                           Why is The Joker insane?   \n",
      "158861  How are police trained to handle high-speed ch...   \n",
      "136836    Why are so many classic movies getting remakes?   \n",
      "157881  Which is the best programming language for beg...   \n",
      "22605   How much time would it take at an acceleration...   \n",
      "\n",
      "                                                question2  is_duplicate  \n",
      "140411  What were the highlights of PM Modi's speech o...             1  \n",
      "6931    What would happen if anonymous users on Quora ...             1  \n",
      "115104  What is Hillary Clinton’s stance on high skill...             1  \n",
      "83685   Are the animals in The Jungle Book all native ...             0  \n",
      "42683   Should you inform a police officer if you are ...             0  \n",
      "105446  How are Indian and Egypt civilizations interco...             0  \n",
      "17440                           How do I prepare for PTE?             1  \n",
      "140302  How penguin publishing company manage all book...             0  \n",
      "31964                   How could I stop thinking at all?             0  \n",
      "49789                 Why is one plus two equal to three?             0  \n",
      "160214       How do I find if a guy is interested in you?             0  \n",
      "182003                   How should forget my first love?             1  \n",
      "161023  What are the consiquences of not paying the cr...             0  \n",
      "188904   What's the best way to deal with violent people?             0  \n",
      "7638    What is a great introduction to computer scien...             1  \n",
      "129067  Tequila, whiskey, vodka, beer, what's the bigg...             0  \n",
      "90619   When I Google search my name, my Quora account...             1  \n",
      "108571  The STOVL F-35B has a big 50 inch lift fan nea...             0  \n",
      "157023       What are some examples of hydraulic systems?             1  \n",
      "87630                    Can I use MySQL with JavaScript?             1  \n",
      "75347   What is going on in Turkey during the July 201...             0  \n",
      "7779        What should I do with this girl that I liked?             1  \n",
      "25284                                     How do I brush?             0  \n",
      "37403   What is it like to work with scientific comput...             0  \n",
      "98181                 Can a GTX 1050 TI go in an ASUS PC?             0  \n",
      "140790                How can a new writer get published?             1  \n",
      "188993  What is spin? What are the causes for a partic...             1  \n",
      "195344  What are your all time favorite TV series char...             1  \n",
      "178507              How do native speakers learn English?             0  \n",
      "176380  What are the best comics to read for a newcome...             0  \n",
      "...                                                   ...           ...  \n",
      "134695  Every time I try to ask a question on Quora, i...             1  \n",
      "188234  Why is the time set to 9:41 am on every iPhone...             1  \n",
      "89363      What are the most charming small towns in USA?             0  \n",
      "71653          How is overtime paid in IT/ITES companies?             0  \n",
      "58787                   How can I root my Android device?             1  \n",
      "57018   Who is going to win the 2016 presidential elec...             1  \n",
      "85856   What are the easiest ways to make good money u...             1  \n",
      "77817                         How do I improve my grades?             1  \n",
      "58994   Question That Contains Assumptions: Why would ...             1  \n",
      "185932                   What can you sell to car owners?             0  \n",
      "169737  Can anyone increase their height at the age of...             1  \n",
      "198222           How do I speak English like celebrities?             1  \n",
      "55833       How should I handle too big Outlook pst file?             0  \n",
      "59756   Car Maintenance: How often should windshield w...             0  \n",
      "169170                  What is agricultural engineering?             0  \n",
      "197318  Can anyone explain the stock scene in The Dark...             0  \n",
      "72985               What is the age of consent in Turkey?             0  \n",
      "90249   Who is the most badass Game of Thrones character?             0  \n",
      "24171   What is the difference of table manners betwee...             1  \n",
      "37612   What is the Sahara, and how do the average tem...             1  \n",
      "68050   How can I earn more money with little money I ...             1  \n",
      "175022  Why don't small, cute girls like small boys li...             0  \n",
      "65033   How does wine take on peach, pear and other ci...             0  \n",
      "198976                                 What Is a Blogger?             0  \n",
      "28641   Who was the founder of the Mughal Empire in In...             0  \n",
      "109653                                  Who is the Joker?             0  \n",
      "158861  How are police trained to handle people with a...             1  \n",
      "136836     Why is Hollywood churning out so many remakes?             1  \n",
      "157881  What are the best programming languages to lea...             0  \n",
      "22605   If a photon travels at the speed of light and ...             0  \n",
      "\n",
      "[195999 rows x 6 columns]\n"
     ]
    }
   ],
   "source": [
    "def read_data():\n",
    "    df = pd.read_csv(\"train.csv\",nrows=200000)\n",
    "    print (\"Shape of base training File = \", df.shape)\n",
    "    # Remove missing values and duplicates from training data\n",
    "    df.drop_duplicates(inplace=True)\n",
    "    df.dropna(inplace=True)\n",
    "    print(\"Shape of base training data after cleaning = \", df.shape)\n",
    "    return df\n",
    "df = read_data()\n",
    "\n",
    "df_train, df_test = train_test_split(df, test_size = 0.02)\n",
    "#print(df_train)\n",
    "#df_train = df_train[0:100]\n",
    "#df_test = df_test[0:100]\n",
    "#print (df_train.head(2))\n",
    "print (df_test.shape)\n",
    "print(df_train.shape)\n",
    "print(df_train)"
   ]
  },
  {
   "cell_type": "code",
   "execution_count": 5,
   "metadata": {},
   "outputs": [],
   "source": [
    "from collections import Counter\n",
    "import matplotlib.pyplot as plt\n",
    "import operator"
   ]
  },
  {
   "cell_type": "code",
   "execution_count": 6,
   "metadata": {},
   "outputs": [],
   "source": [
    "\n",
    "def eda(df):\n",
    "    print (\"Duplicate Count = %s , Non Duplicate Count = %s\" \n",
    "           %(df.is_duplicate.value_counts()[1],df.is_duplicate.value_counts()[0]))\n",
    "    \n",
    "    question_ids_combined = df.qid1.tolist() + df.qid2.tolist()\n",
    "    \n",
    "    print (\"Unique Questions = %s\" %(len(np.unique(question_ids_combined))))\n",
    "    \n",
    "    question_ids_counter = Counter(question_ids_combined)\n",
    "    sorted_question_ids_counter = sorted(question_ids_counter.items(), key=operator.itemgetter(1))\n",
    "    question_appearing_more_than_once = [i for i in question_ids_counter.values() if i > 1]\n",
    "    print (\"Count of Quesitons appearing more than once = %s\" %(len(question_appearing_more_than_once)))"
   ]
  },
  {
   "cell_type": "code",
   "execution_count": 7,
   "metadata": {},
   "outputs": [
    {
     "name": "stdout",
     "output_type": "stream",
     "text": [
      "Duplicate Count = 72964 , Non Duplicate Count = 123035\n",
      "Unique Questions = 296492\n",
      "Count of Quesitons appearing more than once = 46708\n",
      "            id    qid1    qid2  \\\n",
      "140411  140411  219011   28072   \n",
      "6931      6931   13565   13566   \n",
      "115104  115104  187761  187762   \n",
      "83685    83685  141615  141616   \n",
      "42683    42683   76882   76883   \n",
      "105446  105446  173884  173885   \n",
      "17440    17440   33138   33139   \n",
      "140302  140302  222982  222983   \n",
      "31964    31964   58884   58885   \n",
      "49789    49789   88574   88575   \n",
      "160214  160214  249930   29858   \n",
      "182003  182003   13206  125506   \n",
      "161023  161023  251013  251014   \n",
      "188904  188904  287546  287547   \n",
      "7638      7638   14915   11046   \n",
      "129067  129067  207423  207424   \n",
      "90619    90619  152036  152037   \n",
      "108571  108571  178358  178359   \n",
      "157023  157023  245610  245611   \n",
      "87630    87630  147553  147554   \n",
      "75347    75347  128971  128972   \n",
      "7779      7779   15185   15186   \n",
      "25284    25284   47140   47141   \n",
      "37403    37403   68070   68071   \n",
      "98181    98181  163194  163195   \n",
      "140790  140790   25923  223671   \n",
      "188993  188993  111923  287648   \n",
      "195344  195344  295764   25025   \n",
      "178507  178507  274158  274159   \n",
      "176380  176380  271382   78546   \n",
      "...        ...     ...     ...   \n",
      "134695  134695  215234  215235   \n",
      "188234  188234  286700  259191   \n",
      "89363    89363  150151  150152   \n",
      "71653    71653  123259  123260   \n",
      "58787    58787   61062  103069   \n",
      "57018    57018   45091    5913   \n",
      "85856    85856   24297   36120   \n",
      "77817    77817  132805   33636   \n",
      "58994    58994  103410  103411   \n",
      "185932  185932  283744  283745   \n",
      "169737  169737   28603    5313   \n",
      "198222  198222    7842    2986   \n",
      "55833    55833   57326   98383   \n",
      "59756    59756  102259  104622   \n",
      "169170  169170  261862  261863   \n",
      "197318  197318  298242  298243   \n",
      "72985    72985  125305  125306   \n",
      "90249    90249  151479  151480   \n",
      "24171    24171   45194   45195   \n",
      "37612    37612   68425   16340   \n",
      "68050    68050  117667  117668   \n",
      "175022  175022  269582  269583   \n",
      "65033    65033  112921  112922   \n",
      "198976  198976  300320  186437   \n",
      "28641    28641   53091   53092   \n",
      "109653  109653  156886  179926   \n",
      "158861  158861  248100  248101   \n",
      "136836  136836  218230  218231   \n",
      "157881  157881   88005    4734   \n",
      "22605    22605   42407   42408   \n",
      "\n",
      "                                                question1  \\\n",
      "140411  What were the highlights of PM Modi's speech o...   \n",
      "6931    What would happen if the anonymous features in...   \n",
      "115104  What does Hillary Clinton think of high-skill ...   \n",
      "83685   Who has given the voice for the main character...   \n",
      "42683   When police saw my CCW (Carry a Concealed Weap...   \n",
      "105446  I run a collective with 20 small businesses. A...   \n",
      "17440        What are some good online tutorials for PTE?   \n",
      "140302  What is the connection between operating syste...   \n",
      "31964                        How do I stop thinking more?   \n",
      "49789   Why does the tripod of a camera have three leg...   \n",
      "160214             How do I know if a geeky guy likes me?   \n",
      "182003                        How do I forget first love?   \n",
      "161023  What credit card is the one that you pay the l...   \n",
      "188904              How do I deal with a violent student?   \n",
      "7638    What is a good introductory computer science b...   \n",
      "129067  What is the difference between gin, vodka, whi...   \n",
      "90619   How do I stop my Quora account from coming up ...   \n",
      "108571  What occupies the empty space freed up in the ...   \n",
      "157023  What is hydraulic system? What are some exampl...   \n",
      "87630                              Mysql with JavaScript?   \n",
      "75347                 What exactly did happen in Turkey ?   \n",
      "7779             What should I do about this girl I like?   \n",
      "25284          How often do you have to brush your teeth?   \n",
      "37403   For scientific computing, is Java useful in a ...   \n",
      "98181    How are bachelors in philosophy taught in China?   \n",
      "140790                     How do I get a book published?   \n",
      "188993                             What is particle spin?   \n",
      "195344  What is your favorite television character (wi...   \n",
      "178507              How do I find English native speaker?   \n",
      "176380                How many people read comics online?   \n",
      "...                                                   ...   \n",
      "134695  Why does any question I ask gets marked as nee...   \n",
      "188234  History of Apple Inc.: In iPhone advertisement...   \n",
      "89363   What are the most charming small towns in Turkey?   \n",
      "71653            What is the Overtime policy of Belzabar?   \n",
      "58787                  How do you root an Android tablet?   \n",
      "57018   Which candidate is currently projected to win ...   \n",
      "85856          What is the easy way to make money online?   \n",
      "77817   I currently have C's and B's. What can I chang...   \n",
      "58994   If aliens do exist, will the government try to...   \n",
      "185932  What did the Proclamation of 1763 state? What ...   \n",
      "169737  Does height increase after 21? How can I get t...   \n",
      "198222              How can I speak English like natives?   \n",
      "55833   Is there an easy way to import Outlook PST fil...   \n",
      "59756   Car Maintenance: Should I replace the full win...   \n",
      "169170                  What is an Agricultural Engineer?   \n",
      "197318  The Dark Knight Rises (2012 movie): How does B...   \n",
      "72985                         What is the age of consent?   \n",
      "90249   Who is the most enigmatic Game of Thrones char...   \n",
      "24171   What are notable differences in the table mann...   \n",
      "37612   What is the Sahara, and how do the average tem...   \n",
      "68050    How can I earn more money with the money I have?   \n",
      "175022  Why do most guys seem to prefer mature looking...   \n",
      "65033                        How are citrus hybrids made?   \n",
      "198976                                  Who is a blogger?   \n",
      "28641       What were the strengths of the Mughal Empire?   \n",
      "109653                           Why is The Joker insane?   \n",
      "158861  How are police trained to handle high-speed ch...   \n",
      "136836    Why are so many classic movies getting remakes?   \n",
      "157881  Which is the best programming language for beg...   \n",
      "22605   How much time would it take at an acceleration...   \n",
      "\n",
      "                                                question2  is_duplicate  \n",
      "140411  What were the highlights of PM Modi's speech o...             1  \n",
      "6931    What would happen if anonymous users on Quora ...             1  \n",
      "115104  What is Hillary Clinton’s stance on high skill...             1  \n",
      "83685   Are the animals in The Jungle Book all native ...             0  \n",
      "42683   Should you inform a police officer if you are ...             0  \n",
      "105446  How are Indian and Egypt civilizations interco...             0  \n",
      "17440                           How do I prepare for PTE?             1  \n",
      "140302  How penguin publishing company manage all book...             0  \n",
      "31964                   How could I stop thinking at all?             0  \n",
      "49789                 Why is one plus two equal to three?             0  \n",
      "160214       How do I find if a guy is interested in you?             0  \n",
      "182003                   How should forget my first love?             1  \n",
      "161023  What are the consiquences of not paying the cr...             0  \n",
      "188904   What's the best way to deal with violent people?             0  \n",
      "7638    What is a great introduction to computer scien...             1  \n",
      "129067  Tequila, whiskey, vodka, beer, what's the bigg...             0  \n",
      "90619   When I Google search my name, my Quora account...             1  \n",
      "108571  The STOVL F-35B has a big 50 inch lift fan nea...             0  \n",
      "157023       What are some examples of hydraulic systems?             1  \n",
      "87630                    Can I use MySQL with JavaScript?             1  \n",
      "75347   What is going on in Turkey during the July 201...             0  \n",
      "7779        What should I do with this girl that I liked?             1  \n",
      "25284                                     How do I brush?             0  \n",
      "37403   What is it like to work with scientific comput...             0  \n",
      "98181                 Can a GTX 1050 TI go in an ASUS PC?             0  \n",
      "140790                How can a new writer get published?             1  \n",
      "188993  What is spin? What are the causes for a partic...             1  \n",
      "195344  What are your all time favorite TV series char...             1  \n",
      "178507              How do native speakers learn English?             0  \n",
      "176380  What are the best comics to read for a newcome...             0  \n",
      "...                                                   ...           ...  \n",
      "134695  Every time I try to ask a question on Quora, i...             1  \n",
      "188234  Why is the time set to 9:41 am on every iPhone...             1  \n",
      "89363      What are the most charming small towns in USA?             0  \n",
      "71653          How is overtime paid in IT/ITES companies?             0  \n",
      "58787                   How can I root my Android device?             1  \n",
      "57018   Who is going to win the 2016 presidential elec...             1  \n",
      "85856   What are the easiest ways to make good money u...             1  \n",
      "77817                         How do I improve my grades?             1  \n",
      "58994   Question That Contains Assumptions: Why would ...             1  \n",
      "185932                   What can you sell to car owners?             0  \n",
      "169737  Can anyone increase their height at the age of...             1  \n",
      "198222           How do I speak English like celebrities?             1  \n",
      "55833       How should I handle too big Outlook pst file?             0  \n",
      "59756   Car Maintenance: How often should windshield w...             0  \n",
      "169170                  What is agricultural engineering?             0  \n",
      "197318  Can anyone explain the stock scene in The Dark...             0  \n",
      "72985               What is the age of consent in Turkey?             0  \n",
      "90249   Who is the most badass Game of Thrones character?             0  \n",
      "24171   What is the difference of table manners betwee...             1  \n",
      "37612   What is the Sahara, and how do the average tem...             1  \n",
      "68050   How can I earn more money with little money I ...             1  \n",
      "175022  Why don't small, cute girls like small boys li...             0  \n",
      "65033   How does wine take on peach, pear and other ci...             0  \n",
      "198976                                 What Is a Blogger?             0  \n",
      "28641   Who was the founder of the Mughal Empire in In...             0  \n",
      "109653                                  Who is the Joker?             0  \n",
      "158861  How are police trained to handle people with a...             1  \n",
      "136836     Why is Hollywood churning out so many remakes?             1  \n",
      "157881  What are the best programming languages to lea...             0  \n",
      "22605   If a photon travels at the speed of light and ...             0  \n",
      "\n",
      "[195999 rows x 6 columns]\n"
     ]
    }
   ],
   "source": [
    "eda(df_train)\n",
    "print(df_train)"
   ]
  },
  {
   "cell_type": "code",
   "execution_count": 8,
   "metadata": {},
   "outputs": [
    {
     "name": "stdout",
     "output_type": "stream",
     "text": [
      "            id    qid1    qid2  \\\n",
      "140411  140411  219011   28072   \n",
      "6931      6931   13565   13566   \n",
      "115104  115104  187761  187762   \n",
      "83685    83685  141615  141616   \n",
      "42683    42683   76882   76883   \n",
      "105446  105446  173884  173885   \n",
      "17440    17440   33138   33139   \n",
      "140302  140302  222982  222983   \n",
      "31964    31964   58884   58885   \n",
      "49789    49789   88574   88575   \n",
      "160214  160214  249930   29858   \n",
      "182003  182003   13206  125506   \n",
      "161023  161023  251013  251014   \n",
      "188904  188904  287546  287547   \n",
      "7638      7638   14915   11046   \n",
      "129067  129067  207423  207424   \n",
      "90619    90619  152036  152037   \n",
      "108571  108571  178358  178359   \n",
      "157023  157023  245610  245611   \n",
      "87630    87630  147553  147554   \n",
      "75347    75347  128971  128972   \n",
      "7779      7779   15185   15186   \n",
      "25284    25284   47140   47141   \n",
      "37403    37403   68070   68071   \n",
      "98181    98181  163194  163195   \n",
      "140790  140790   25923  223671   \n",
      "188993  188993  111923  287648   \n",
      "195344  195344  295764   25025   \n",
      "178507  178507  274158  274159   \n",
      "176380  176380  271382   78546   \n",
      "...        ...     ...     ...   \n",
      "134695  134695  215234  215235   \n",
      "188234  188234  286700  259191   \n",
      "89363    89363  150151  150152   \n",
      "71653    71653  123259  123260   \n",
      "58787    58787   61062  103069   \n",
      "57018    57018   45091    5913   \n",
      "85856    85856   24297   36120   \n",
      "77817    77817  132805   33636   \n",
      "58994    58994  103410  103411   \n",
      "185932  185932  283744  283745   \n",
      "169737  169737   28603    5313   \n",
      "198222  198222    7842    2986   \n",
      "55833    55833   57326   98383   \n",
      "59756    59756  102259  104622   \n",
      "169170  169170  261862  261863   \n",
      "197318  197318  298242  298243   \n",
      "72985    72985  125305  125306   \n",
      "90249    90249  151479  151480   \n",
      "24171    24171   45194   45195   \n",
      "37612    37612   68425   16340   \n",
      "68050    68050  117667  117668   \n",
      "175022  175022  269582  269583   \n",
      "65033    65033  112921  112922   \n",
      "198976  198976  300320  186437   \n",
      "28641    28641   53091   53092   \n",
      "109653  109653  156886  179926   \n",
      "158861  158861  248100  248101   \n",
      "136836  136836  218230  218231   \n",
      "157881  157881   88005    4734   \n",
      "22605    22605   42407   42408   \n",
      "\n",
      "                                                question1  \\\n",
      "140411  What were the highlights of PM Modi's speech o...   \n",
      "6931    What would happen if the anonymous features in...   \n",
      "115104  What does Hillary Clinton think of high-skill ...   \n",
      "83685   Who has given the voice for the main character...   \n",
      "42683   When police saw my CCW (Carry a Concealed Weap...   \n",
      "105446  I run a collective with 20 small businesses. A...   \n",
      "17440        What are some good online tutorials for PTE?   \n",
      "140302  What is the connection between operating syste...   \n",
      "31964                        How do I stop thinking more?   \n",
      "49789   Why does the tripod of a camera have three leg...   \n",
      "160214             How do I know if a geeky guy likes me?   \n",
      "182003                        How do I forget first love?   \n",
      "161023  What credit card is the one that you pay the l...   \n",
      "188904              How do I deal with a violent student?   \n",
      "7638    What is a good introductory computer science b...   \n",
      "129067  What is the difference between gin, vodka, whi...   \n",
      "90619   How do I stop my Quora account from coming up ...   \n",
      "108571  What occupies the empty space freed up in the ...   \n",
      "157023  What is hydraulic system? What are some exampl...   \n",
      "87630                              Mysql with JavaScript?   \n",
      "75347                 What exactly did happen in Turkey ?   \n",
      "7779             What should I do about this girl I like?   \n",
      "25284          How often do you have to brush your teeth?   \n",
      "37403   For scientific computing, is Java useful in a ...   \n",
      "98181    How are bachelors in philosophy taught in China?   \n",
      "140790                     How do I get a book published?   \n",
      "188993                             What is particle spin?   \n",
      "195344  What is your favorite television character (wi...   \n",
      "178507              How do I find English native speaker?   \n",
      "176380                How many people read comics online?   \n",
      "...                                                   ...   \n",
      "134695  Why does any question I ask gets marked as nee...   \n",
      "188234  History of Apple Inc.: In iPhone advertisement...   \n",
      "89363   What are the most charming small towns in Turkey?   \n",
      "71653            What is the Overtime policy of Belzabar?   \n",
      "58787                  How do you root an Android tablet?   \n",
      "57018   Which candidate is currently projected to win ...   \n",
      "85856          What is the easy way to make money online?   \n",
      "77817   I currently have C's and B's. What can I chang...   \n",
      "58994   If aliens do exist, will the government try to...   \n",
      "185932  What did the Proclamation of 1763 state? What ...   \n",
      "169737  Does height increase after 21? How can I get t...   \n",
      "198222              How can I speak English like natives?   \n",
      "55833   Is there an easy way to import Outlook PST fil...   \n",
      "59756   Car Maintenance: Should I replace the full win...   \n",
      "169170                  What is an Agricultural Engineer?   \n",
      "197318  The Dark Knight Rises (2012 movie): How does B...   \n",
      "72985                         What is the age of consent?   \n",
      "90249   Who is the most enigmatic Game of Thrones char...   \n",
      "24171   What are notable differences in the table mann...   \n",
      "37612   What is the Sahara, and how do the average tem...   \n",
      "68050    How can I earn more money with the money I have?   \n",
      "175022  Why do most guys seem to prefer mature looking...   \n",
      "65033                        How are citrus hybrids made?   \n",
      "198976                                  Who is a blogger?   \n",
      "28641       What were the strengths of the Mughal Empire?   \n",
      "109653                           Why is The Joker insane?   \n",
      "158861  How are police trained to handle high-speed ch...   \n",
      "136836    Why are so many classic movies getting remakes?   \n",
      "157881  Which is the best programming language for beg...   \n",
      "22605   How much time would it take at an acceleration...   \n",
      "\n",
      "                                                question2  is_duplicate  \n",
      "140411  What were the highlights of PM Modi's speech o...             1  \n",
      "6931    What would happen if anonymous users on Quora ...             1  \n",
      "115104  What is Hillary Clinton’s stance on high skill...             1  \n",
      "83685   Are the animals in The Jungle Book all native ...             0  \n",
      "42683   Should you inform a police officer if you are ...             0  \n",
      "105446  How are Indian and Egypt civilizations interco...             0  \n",
      "17440                           How do I prepare for PTE?             1  \n",
      "140302  How penguin publishing company manage all book...             0  \n",
      "31964                   How could I stop thinking at all?             0  \n",
      "49789                 Why is one plus two equal to three?             0  \n",
      "160214       How do I find if a guy is interested in you?             0  \n",
      "182003                   How should forget my first love?             1  \n",
      "161023  What are the consiquences of not paying the cr...             0  \n",
      "188904   What's the best way to deal with violent people?             0  \n",
      "7638    What is a great introduction to computer scien...             1  \n",
      "129067  Tequila, whiskey, vodka, beer, what's the bigg...             0  \n",
      "90619   When I Google search my name, my Quora account...             1  \n",
      "108571  The STOVL F-35B has a big 50 inch lift fan nea...             0  \n",
      "157023       What are some examples of hydraulic systems?             1  \n",
      "87630                    Can I use MySQL with JavaScript?             1  \n",
      "75347   What is going on in Turkey during the July 201...             0  \n",
      "7779        What should I do with this girl that I liked?             1  \n",
      "25284                                     How do I brush?             0  \n",
      "37403   What is it like to work with scientific comput...             0  \n",
      "98181                 Can a GTX 1050 TI go in an ASUS PC?             0  \n",
      "140790                How can a new writer get published?             1  \n",
      "188993  What is spin? What are the causes for a partic...             1  \n",
      "195344  What are your all time favorite TV series char...             1  \n",
      "178507              How do native speakers learn English?             0  \n",
      "176380  What are the best comics to read for a newcome...             0  \n",
      "...                                                   ...           ...  \n",
      "134695  Every time I try to ask a question on Quora, i...             1  \n",
      "188234  Why is the time set to 9:41 am on every iPhone...             1  \n",
      "89363      What are the most charming small towns in USA?             0  \n",
      "71653          How is overtime paid in IT/ITES companies?             0  \n",
      "58787                   How can I root my Android device?             1  \n",
      "57018   Who is going to win the 2016 presidential elec...             1  \n",
      "85856   What are the easiest ways to make good money u...             1  \n",
      "77817                         How do I improve my grades?             1  \n",
      "58994   Question That Contains Assumptions: Why would ...             1  \n",
      "185932                   What can you sell to car owners?             0  \n",
      "169737  Can anyone increase their height at the age of...             1  \n",
      "198222           How do I speak English like celebrities?             1  \n",
      "55833       How should I handle too big Outlook pst file?             0  \n",
      "59756   Car Maintenance: How often should windshield w...             0  \n",
      "169170                  What is agricultural engineering?             0  \n",
      "197318  Can anyone explain the stock scene in The Dark...             0  \n",
      "72985               What is the age of consent in Turkey?             0  \n",
      "90249   Who is the most badass Game of Thrones character?             0  \n",
      "24171   What is the difference of table manners betwee...             1  \n",
      "37612   What is the Sahara, and how do the average tem...             1  \n",
      "68050   How can I earn more money with little money I ...             1  \n",
      "175022  Why don't small, cute girls like small boys li...             0  \n",
      "65033   How does wine take on peach, pear and other ci...             0  \n",
      "198976                                 What Is a Blogger?             0  \n",
      "28641   Who was the founder of the Mughal Empire in In...             0  \n",
      "109653                                  Who is the Joker?             0  \n",
      "158861  How are police trained to handle people with a...             1  \n",
      "136836     Why is Hollywood churning out so many remakes?             1  \n",
      "157881  What are the best programming languages to lea...             0  \n",
      "22605   If a photon travels at the speed of light and ...             0  \n",
      "\n",
      "[195999 rows x 6 columns]\n"
     ]
    }
   ],
   "source": [
    "import re\n",
    "import gensim\n",
    "from gensim import corpora\n",
    "from nltk.corpus import stopwords\n",
    "from nltk.stem.porter import *\n",
    "\n",
    "words = re.compile(r\"\\w+\",re.I)\n",
    "stopword = stopwords.words('english')\n",
    "stemmer = PorterStemmer()\n",
    "\n",
    "print(df_train)"
   ]
  },
  {
   "cell_type": "code",
   "execution_count": 9,
   "metadata": {},
   "outputs": [],
   "source": [
    "def tokenize_questions(df):\n",
    "    question_1_tokenized = []\n",
    "    question_2_tokenized = []\n",
    "    for q in df.question1.tolist():\n",
    "            question_1_tokenized.append([stemmer.stem(i.lower()) for i in words.findall(q) if i not in stopword])\n",
    "    for q in df.question2.tolist():\n",
    "        question_2_tokenized.append([stemmer.stem(i.lower()) for i in words.findall(q) if i not in stopword])\n",
    "    df[\"Question_1_tok\"] = question_1_tokenized\n",
    "    df[\"Question_2_tok\"] = question_2_tokenized\n",
    "    return df"
   ]
  },
  {
   "cell_type": "code",
   "execution_count": 10,
   "metadata": {},
   "outputs": [],
   "source": [
    "def train_dictionary(df):\n",
    "    questions_tokenized = df.Question_1_tok.tolist() + df.Question_2_tok.tolist()\n",
    "    #print(questions_tokenized)\n",
    "    dictionary = corpora.Dictionary(questions_tokenized)\n",
    "    #print(dictionary)\n",
    "    dictionary.filter_extremes(no_below=5, no_above=0.8)\n",
    "    dictionary.compactify()\n",
    "    return dictionary"
   ]
  },
  {
   "cell_type": "code",
   "execution_count": 11,
   "metadata": {},
   "outputs": [
    {
     "name": "stderr",
     "output_type": "stream",
     "text": [
      "/usr/local/lib/python2.7/dist-packages/ipykernel_launcher.py:8: SettingWithCopyWarning: \n",
      "A value is trying to be set on a copy of a slice from a DataFrame.\n",
      "Try using .loc[row_indexer,col_indexer] = value instead\n",
      "\n",
      "See the caveats in the documentation: http://pandas.pydata.org/pandas-docs/stable/indexing.html#indexing-view-versus-copy\n",
      "  \n",
      "/usr/local/lib/python2.7/dist-packages/ipykernel_launcher.py:9: SettingWithCopyWarning: \n",
      "A value is trying to be set on a copy of a slice from a DataFrame.\n",
      "Try using .loc[row_indexer,col_indexer] = value instead\n",
      "\n",
      "See the caveats in the documentation: http://pandas.pydata.org/pandas-docs/stable/indexing.html#indexing-view-versus-copy\n",
      "  if __name__ == '__main__':\n"
     ]
    },
    {
     "name": "stdout",
     "output_type": "stream",
     "text": [
      "No of words in the dictionary = 15140\n"
     ]
    }
   ],
   "source": [
    "#print(df_train)\n",
    "df_train = tokenize_questions(df_train)\n",
    "#print(\"*********************************************\")\n",
    "#print(df_train)\n",
    "dictionary = train_dictionary(df_train)\n",
    "print (\"No of words in the dictionary = %s\" %len(dictionary.token2id))"
   ]
  },
  {
   "cell_type": "code",
   "execution_count": 12,
   "metadata": {},
   "outputs": [
    {
     "name": "stderr",
     "output_type": "stream",
     "text": [
      "/usr/local/lib/python2.7/dist-packages/ipykernel_launcher.py:8: SettingWithCopyWarning: \n",
      "A value is trying to be set on a copy of a slice from a DataFrame.\n",
      "Try using .loc[row_indexer,col_indexer] = value instead\n",
      "\n",
      "See the caveats in the documentation: http://pandas.pydata.org/pandas-docs/stable/indexing.html#indexing-view-versus-copy\n",
      "  \n",
      "/usr/local/lib/python2.7/dist-packages/ipykernel_launcher.py:9: SettingWithCopyWarning: \n",
      "A value is trying to be set on a copy of a slice from a DataFrame.\n",
      "Try using .loc[row_indexer,col_indexer] = value instead\n",
      "\n",
      "See the caveats in the documentation: http://pandas.pydata.org/pandas-docs/stable/indexing.html#indexing-view-versus-copy\n",
      "  if __name__ == '__main__':\n"
     ]
    }
   ],
   "source": [
    "df_test = tokenize_questions(df_test)\n",
    "def get_vectors(df, dictionary):\n",
    "    question1_vec = [dictionary.doc2bow(text) for text in df.Question_1_tok.tolist()]\n",
    "    question2_vec = [dictionary.doc2bow(text) for text in df.Question_2_tok.tolist()]\n",
    "    question1_csc = gensim.matutils.corpus2csc(question1_vec, num_terms=len(dictionary.token2id))\n",
    "    question2_csc = gensim.matutils.corpus2csc(question2_vec, num_terms=len(dictionary.token2id))\n",
    "    return question1_csc.transpose(),question2_csc.transpose()"
   ]
  },
  {
   "cell_type": "code",
   "execution_count": 13,
   "metadata": {},
   "outputs": [
    {
     "name": "stdout",
     "output_type": "stream",
     "text": [
      "(195999, 15140)\n",
      "(195999, 15140)\n"
     ]
    }
   ],
   "source": [
    "q1_csc, q2_csc = get_vectors(df_train, dictionary)\n",
    "\n",
    "print (q1_csc.shape)\n",
    "print (q2_csc.shape)"
   ]
  },
  {
   "cell_type": "code",
   "execution_count": 14,
   "metadata": {},
   "outputs": [],
   "source": [
    "from sklearn.metrics.pairwise import cosine_similarity as cs\n",
    "from sklearn.metrics.pairwise import manhattan_distances as md\n",
    "from sklearn.metrics.pairwise import euclidean_distances as ed\n",
    "from sklearn.metrics import jaccard_similarity_score as jsc\n",
    "from sklearn.neighbors import DistanceMetric\n",
    "from sklearn.preprocessing import MinMaxScaler\n",
    "\n",
    "minkowski_dis = DistanceMetric.get_metric('minkowski')\n",
    "mms_scale_man = MinMaxScaler()\n",
    "mms_scale_euc = MinMaxScaler()\n",
    "mms_scale_mink = MinMaxScaler()"
   ]
  },
  {
   "cell_type": "code",
   "execution_count": 15,
   "metadata": {},
   "outputs": [],
   "source": [
    "def get_similarity_values(q1_csc, q2_csc):\n",
    "    cosine_sim = []\n",
    "    manhattan_dis = []\n",
    "    eucledian_dis = []\n",
    "    jaccard_dis = []\n",
    "    minkowsk_dis = []\n",
    "    for i,j in zip(q1_csc, q2_csc):\n",
    "        sim = cs(i,j)\n",
    "        cosine_sim.append(sim[0][0])\n",
    "        sim = md(i,j)\n",
    "        manhattan_dis.append(sim[0][0])\n",
    "        sim = ed(i,j)\n",
    "        eucledian_dis.append(sim[0][0])\n",
    "        i_ = i.toarray()\n",
    "        j_ = j.toarray()\n",
    "        try:\n",
    "            sim = jsc(i_,j_)\n",
    "            jaccard_dis.append(sim)\n",
    "        except:\n",
    "            jaccard_dis.append(0)\n",
    "        sim = minkowski_dis.pairwise(i_,j_)\n",
    "        minkowsk_dis.append(sim[0][0]) \n",
    "    return cosine_sim, manhattan_dis, eucledian_dis, jaccard_dis, minkowsk_dis    "
   ]
  },
  {
   "cell_type": "code",
   "execution_count": 16,
   "metadata": {},
   "outputs": [
    {
     "name": "stdout",
     "output_type": "stream",
     "text": [
      "('cosine_sim sample= \\n', [0.9999999999999999, 0.6324555320336759])\n",
      "('manhattan_dis sample = \\n', [0.0, 7.0])\n",
      "('eucledian_dis sample = \\n', [0.0, 2.6457513110645907])\n",
      "('jaccard_dis sample = \\n', [1.0, 0])\n",
      "('minkowsk_dis sample = \\n', [0.0, 2.6457513110645907])\n"
     ]
    }
   ],
   "source": [
    "cosine_sim, manhattan_dis, eucledian_dis, jaccard_dis, minkowsk_dis = get_similarity_values(q1_csc, q2_csc)\n",
    "print (\"cosine_sim sample= \\n\", cosine_sim[0:2])\n",
    "print (\"manhattan_dis sample = \\n\", manhattan_dis[0:2])\n",
    "print (\"eucledian_dis sample = \\n\", eucledian_dis[0:2])\n",
    "print (\"jaccard_dis sample = \\n\", jaccard_dis[0:2])\n",
    "print (\"minkowsk_dis sample = \\n\", minkowsk_dis[0:2])"
   ]
  },
  {
   "cell_type": "code",
   "execution_count": 17,
   "metadata": {},
   "outputs": [],
   "source": [
    "eucledian_dis_array = np.array(eucledian_dis).reshape(-1,1)\n",
    "manhattan_dis_array = np.array(manhattan_dis).reshape(-1,1)\n",
    "minkowsk_dis_array = np.array(minkowsk_dis).reshape(-1,1)"
   ]
  },
  {
   "cell_type": "code",
   "execution_count": 18,
   "metadata": {},
   "outputs": [],
   "source": [
    "manhattan_dis_array = mms_scale_man.fit_transform(manhattan_dis_array)\n",
    "eucledian_dis_array = mms_scale_euc.fit_transform(eucledian_dis_array)\n",
    "minkowsk_dis_array = mms_scale_mink.fit_transform(minkowsk_dis_array)\n",
    "\n",
    "eucledian_dis = eucledian_dis_array.flatten()\n",
    "manhattan_dis = manhattan_dis_array.flatten()\n",
    "minkowsk_dis = minkowsk_dis_array.flatten()\n",
    "\n",
    "from sklearn.metrics import log_loss\n",
    "\n",
    "def calculate_logloss(y_true, y_pred):\n",
    "    loss_cal = log_loss(y_true, y_pred)\n",
    "    return loss_cal\n",
    "\n",
    "q1_csc_test, q2_csc_test = get_vectors(df_test, dictionary)\n",
    "y_pred_cos, y_pred_man, y_pred_euc, y_pred_jac, y_pred_mink = get_similarity_values(q1_csc_test, q2_csc_test)\n",
    "y_true = df_test.is_duplicate.tolist()\n",
    "\n",
    "y_pred_man_array = mms_scale_man.transform(np.array(y_pred_man).reshape(-1,1))\n",
    "y_pred_man = y_pred_man_array.flatten()"
   ]
  },
  {
   "cell_type": "code",
   "execution_count": 19,
   "metadata": {},
   "outputs": [
    {
     "name": "stdout",
     "output_type": "stream",
     "text": [
      "The calculated log loss value on the test set for cosine sim is = 1.207097\n",
      "The calculated log loss value on the test set for manhattan sim is = 2.619389\n",
      "The calculated log loss value on the test set for euclidean sim is = 2.246408\n",
      "The calculated log loss value on the test set for jaccard sim is = 3.066721\n",
      "The calculated log loss value on the test set for minkowski sim is = 2.246408\n"
     ]
    },
    {
     "name": "stderr",
     "output_type": "stream",
     "text": [
      "/usr/local/lib/python2.7/dist-packages/sklearn/ensemble/forest.py:246: FutureWarning: The default value of n_estimators will change from 10 in version 0.20 to 100 in 0.22.\n",
      "  \"10 in version 0.20 to 100 in 0.22.\", FutureWarning)\n"
     ]
    },
    {
     "data": {
      "text/plain": [
       "RandomForestRegressor(bootstrap=True, criterion='mse', max_depth=None,\n",
       "           max_features='auto', max_leaf_nodes=None,\n",
       "           min_impurity_decrease=0.0, min_impurity_split=None,\n",
       "           min_samples_leaf=1, min_samples_split=2,\n",
       "           min_weight_fraction_leaf=0.0, n_estimators=10, n_jobs=None,\n",
       "           oob_score=False, random_state=None, verbose=0, warm_start=False)"
      ]
     },
     "execution_count": 19,
     "metadata": {},
     "output_type": "execute_result"
    }
   ],
   "source": [
    "y_pred_euc_array = mms_scale_euc.transform(np.array(y_pred_euc).reshape(-1,1))\n",
    "y_pred_euc = y_pred_euc_array.flatten()\n",
    "\n",
    "y_pred_mink_array = mms_scale_mink.transform(np.array(y_pred_mink).reshape(-1,1))\n",
    "y_pred_mink = y_pred_mink_array.flatten()\n",
    "\n",
    "logloss = calculate_logloss(y_true, y_pred_cos)\n",
    "print (\"The calculated log loss value on the test set for cosine sim is = %f\" %logloss)\n",
    "\n",
    "logloss = calculate_logloss(y_true, y_pred_man)\n",
    "print (\"The calculated log loss value on the test set for manhattan sim is = %f\" %logloss)\n",
    "\n",
    "logloss = calculate_logloss(y_true, y_pred_euc)\n",
    "print (\"The calculated log loss value on the test set for euclidean sim is = %f\" %logloss)\n",
    "\n",
    "logloss = calculate_logloss(y_true, y_pred_jac)\n",
    "print (\"The calculated log loss value on the test set for jaccard sim is = %f\" %logloss)\n",
    "\n",
    "logloss = calculate_logloss(y_true, y_pred_mink)\n",
    "print (\"The calculated log loss value on the test set for minkowski sim is = %f\" %logloss)\n",
    "\n",
    "from sklearn.ensemble import RandomForestRegressor\n",
    "from sklearn.svm import SVR\n",
    "\n",
    "X_train = pd.DataFrame({\"cos\" : cosine_sim, \"man\" : manhattan_dis, \"euc\" : eucledian_dis, \"jac\" : jaccard_dis, \"min\" : minkowsk_dis})\n",
    "y_train = df_train.is_duplicate\n",
    "\n",
    "X_test = pd.DataFrame({\"cos\" : y_pred_cos, \"man\" : y_pred_man, \"euc\" : y_pred_euc, \"jac\" : y_pred_jac, \"min\" : y_pred_mink})\n",
    "y_test = y_true\n",
    "\n",
    "rfr = RandomForestRegressor()\n",
    "rfr.fit(X_train, y_train)"
   ]
  },
  {
   "cell_type": "code",
   "execution_count": 20,
   "metadata": {},
   "outputs": [
    {
     "name": "stderr",
     "output_type": "stream",
     "text": [
      "/usr/local/lib/python2.7/dist-packages/sklearn/svm/base.py:196: FutureWarning: The default value of gamma will change from 'auto' to 'scale' in version 0.22 to account better for unscaled features. Set gamma explicitly to 'auto' or 'scale' to avoid this warning.\n",
      "  \"avoid this warning.\", FutureWarning)\n"
     ]
    },
    {
     "data": {
      "text/plain": [
       "SVR(C=1.0, cache_size=200, coef0=0.0, degree=3, epsilon=0.1,\n",
       "  gamma='auto_deprecated', kernel='rbf', max_iter=-1, shrinking=True,\n",
       "  tol=0.001, verbose=False)"
      ]
     },
     "execution_count": 20,
     "metadata": {},
     "output_type": "execute_result"
    }
   ],
   "source": [
    "svr = SVR()\n",
    "svr.fit(X_train,y_train)\n",
    "\n",
    "\n"
   ]
  },
  {
   "cell_type": "code",
   "execution_count": 21,
   "metadata": {},
   "outputs": [
    {
     "name": "stdout",
     "output_type": "stream",
     "text": [
      "The calculated log loss value on the test set using RFR is = 0.614497\n",
      "The calculated log loss value on the test set using SVR is = 0.692607\n"
     ]
    }
   ],
   "source": [
    "\n",
    "\n",
    "y_rfr_predicted = rfr.predict(X_test)\n",
    "y_svr_predicted = svr.predict(X_test)\n",
    "\n",
    "logloss_rfr = calculate_logloss(y_test, y_rfr_predicted)\n",
    "logloss_svr = calculate_logloss(y_test, y_svr_predicted)\n",
    "\n",
    "print (\"The calculated log loss value on the test set using RFR is = %f\" %logloss_rfr)\n",
    "print (\"The calculated log loss value on the test set using SVR is = %f\" %logloss_svr)"
   ]
  },
  {
   "cell_type": "code",
   "execution_count": 22,
   "metadata": {},
   "outputs": [
    {
     "data": {
      "text/plain": [
       "array([0.10226262, 0.5611114 , 0.90028825, ..., 0.10620058, 0.09285564,\n",
       "       0.1006868 ])"
      ]
     },
     "execution_count": 22,
     "metadata": {},
     "output_type": "execute_result"
    }
   ],
   "source": [
    "y_svr_predicted"
   ]
  },
  {
   "cell_type": "code",
   "execution_count": 23,
   "metadata": {},
   "outputs": [
    {
     "data": {
      "text/html": [
       "<div>\n",
       "<style scoped>\n",
       "    .dataframe tbody tr th:only-of-type {\n",
       "        vertical-align: middle;\n",
       "    }\n",
       "\n",
       "    .dataframe tbody tr th {\n",
       "        vertical-align: top;\n",
       "    }\n",
       "\n",
       "    .dataframe thead th {\n",
       "        text-align: right;\n",
       "    }\n",
       "</style>\n",
       "<table border=\"1\" class=\"dataframe\">\n",
       "  <thead>\n",
       "    <tr style=\"text-align: right;\">\n",
       "      <th></th>\n",
       "      <th>cos</th>\n",
       "      <th>euc</th>\n",
       "      <th>jac</th>\n",
       "      <th>man</th>\n",
       "      <th>min</th>\n",
       "    </tr>\n",
       "  </thead>\n",
       "  <tbody>\n",
       "    <tr>\n",
       "      <th>0</th>\n",
       "      <td>0.182574</td>\n",
       "      <td>0.137073</td>\n",
       "      <td>0.000000</td>\n",
       "      <td>0.050725</td>\n",
       "      <td>0.137073</td>\n",
       "    </tr>\n",
       "    <tr>\n",
       "      <th>1</th>\n",
       "      <td>0.866025</td>\n",
       "      <td>0.045691</td>\n",
       "      <td>0.750000</td>\n",
       "      <td>0.007246</td>\n",
       "      <td>0.045691</td>\n",
       "    </tr>\n",
       "    <tr>\n",
       "      <th>2</th>\n",
       "      <td>1.000000</td>\n",
       "      <td>0.000000</td>\n",
       "      <td>1.000000</td>\n",
       "      <td>0.000000</td>\n",
       "      <td>0.000000</td>\n",
       "    </tr>\n",
       "    <tr>\n",
       "      <th>3</th>\n",
       "      <td>0.000000</td>\n",
       "      <td>0.188390</td>\n",
       "      <td>0.000000</td>\n",
       "      <td>0.123188</td>\n",
       "      <td>0.188390</td>\n",
       "    </tr>\n",
       "    <tr>\n",
       "      <th>4</th>\n",
       "      <td>0.094491</td>\n",
       "      <td>0.204337</td>\n",
       "      <td>0.047619</td>\n",
       "      <td>0.144928</td>\n",
       "      <td>0.204337</td>\n",
       "    </tr>\n",
       "  </tbody>\n",
       "</table>\n",
       "</div>"
      ],
      "text/plain": [
       "        cos       euc       jac       man       min\n",
       "0  0.182574  0.137073  0.000000  0.050725  0.137073\n",
       "1  0.866025  0.045691  0.750000  0.007246  0.045691\n",
       "2  1.000000  0.000000  1.000000  0.000000  0.000000\n",
       "3  0.000000  0.188390  0.000000  0.123188  0.188390\n",
       "4  0.094491  0.204337  0.047619  0.144928  0.204337"
      ]
     },
     "execution_count": 23,
     "metadata": {},
     "output_type": "execute_result"
    }
   ],
   "source": [
    "X_test.head()"
   ]
  },
  {
   "cell_type": "code",
   "execution_count": 24,
   "metadata": {},
   "outputs": [
    {
     "data": {
      "text/html": [
       "<div>\n",
       "<style scoped>\n",
       "    .dataframe tbody tr th:only-of-type {\n",
       "        vertical-align: middle;\n",
       "    }\n",
       "\n",
       "    .dataframe tbody tr th {\n",
       "        vertical-align: top;\n",
       "    }\n",
       "\n",
       "    .dataframe thead th {\n",
       "        text-align: right;\n",
       "    }\n",
       "</style>\n",
       "<table border=\"1\" class=\"dataframe\">\n",
       "  <thead>\n",
       "    <tr style=\"text-align: right;\">\n",
       "      <th></th>\n",
       "      <th>id</th>\n",
       "      <th>qid1</th>\n",
       "      <th>qid2</th>\n",
       "      <th>question1</th>\n",
       "      <th>question2</th>\n",
       "      <th>is_duplicate</th>\n",
       "      <th>Question_1_tok</th>\n",
       "      <th>Question_2_tok</th>\n",
       "    </tr>\n",
       "  </thead>\n",
       "  <tbody>\n",
       "    <tr>\n",
       "      <th>84010</th>\n",
       "      <td>84010</td>\n",
       "      <td>142096</td>\n",
       "      <td>142097</td>\n",
       "      <td>What should we answer when a HR questions why ...</td>\n",
       "      <td>Why should I I hire you?</td>\n",
       "      <td>1</td>\n",
       "      <td>[what, answer, hr, question, hire]</td>\n",
       "      <td>[whi, i, i, hire]</td>\n",
       "    </tr>\n",
       "  </tbody>\n",
       "</table>\n",
       "</div>"
      ],
      "text/plain": [
       "          id    qid1    qid2  \\\n",
       "84010  84010  142096  142097   \n",
       "\n",
       "                                               question1  \\\n",
       "84010  What should we answer when a HR questions why ...   \n",
       "\n",
       "                      question2  is_duplicate  \\\n",
       "84010  Why should I I hire you?             1   \n",
       "\n",
       "                           Question_1_tok     Question_2_tok  \n",
       "84010  [what, answer, hr, question, hire]  [whi, i, i, hire]  "
      ]
     },
     "execution_count": 24,
     "metadata": {},
     "output_type": "execute_result"
    }
   ],
   "source": [
    "df_test.head(1)"
   ]
  },
  {
   "cell_type": "code",
   "execution_count": 25,
   "metadata": {},
   "outputs": [
    {
     "data": {
      "text/html": [
       "<div>\n",
       "<style scoped>\n",
       "    .dataframe tbody tr th:only-of-type {\n",
       "        vertical-align: middle;\n",
       "    }\n",
       "\n",
       "    .dataframe tbody tr th {\n",
       "        vertical-align: top;\n",
       "    }\n",
       "\n",
       "    .dataframe thead th {\n",
       "        text-align: right;\n",
       "    }\n",
       "</style>\n",
       "<table border=\"1\" class=\"dataframe\">\n",
       "  <thead>\n",
       "    <tr style=\"text-align: right;\">\n",
       "      <th></th>\n",
       "      <th>cos</th>\n",
       "      <th>euc</th>\n",
       "      <th>jac</th>\n",
       "      <th>man</th>\n",
       "      <th>min</th>\n",
       "    </tr>\n",
       "  </thead>\n",
       "  <tbody>\n",
       "    <tr>\n",
       "      <th>0</th>\n",
       "      <td>0.182574</td>\n",
       "      <td>0.137073</td>\n",
       "      <td>0.0</td>\n",
       "      <td>0.050725</td>\n",
       "      <td>0.137073</td>\n",
       "    </tr>\n",
       "  </tbody>\n",
       "</table>\n",
       "</div>"
      ],
      "text/plain": [
       "        cos       euc  jac       man       min\n",
       "0  0.182574  0.137073  0.0  0.050725  0.137073"
      ]
     },
     "execution_count": 25,
     "metadata": {},
     "output_type": "execute_result"
    }
   ],
   "source": [
    "X_test.head(1)"
   ]
  },
  {
   "cell_type": "code",
   "execution_count": 26,
   "metadata": {},
   "outputs": [
    {
     "data": {
      "text/plain": [
       "0.10226261628016142"
      ]
     },
     "execution_count": 26,
     "metadata": {},
     "output_type": "execute_result"
    }
   ],
   "source": [
    "y_svr_predicted[0]"
   ]
  },
  {
   "cell_type": "code",
   "execution_count": 27,
   "metadata": {},
   "outputs": [
    {
     "name": "stdout",
     "output_type": "stream",
     "text": [
      "[0.         0.43119001 0.72456825 ... 0.53291141 0.         0.        ]\n"
     ]
    }
   ],
   "source": [
    "y_rfr_predicted\n",
    "len(y_rfr_predicted)\n",
    "print(y_rfr_predicted)"
   ]
  },
  {
   "cell_type": "code",
   "execution_count": 28,
   "metadata": {},
   "outputs": [
    {
     "name": "stdout",
     "output_type": "stream",
     "text": [
      "4000\n",
      "[1, 0, 1, 0, 0, 0, 0, 0, 1, 1, 1, 0, 1, 0, 0, 0, 0, 0, 0, 1, 0, 0, 0, 0, 0, 0, 0, 0, 0, 0, 0, 0, 1, 0, 0, 1, 0, 0, 0, 0, 0, 1, 1, 1, 1, 0, 1, 1, 1, 0, 0, 1, 0, 1, 1, 1, 1, 0, 0, 0, 0, 0, 0, 0, 0, 0, 1, 1, 1, 0, 1, 1, 1, 0, 0, 0, 0, 0, 1, 0, 0, 1, 0, 0, 1, 0, 1, 1, 0, 0, 1, 1, 0, 0, 1, 1, 1, 0, 0, 1, 1, 1, 1, 1, 0, 0, 0, 0, 1, 1, 0, 0, 0, 0, 0, 0, 0, 1, 0, 0, 1, 0, 0, 0, 1, 1, 0, 1, 0, 0, 1, 0, 0, 1, 1, 0, 0, 0, 1, 0, 1, 1, 0, 1, 0, 0, 0, 1, 1, 1, 0, 0, 1, 0, 0, 0, 0, 0, 0, 1, 0, 0, 1, 0, 1, 1, 0, 1, 1, 0, 1, 0, 1, 0, 1, 1, 0, 1, 0, 0, 0, 0, 0, 0, 0, 0, 0, 0, 0, 0, 0, 1, 1, 0, 1, 0, 1, 0, 0, 0, 1, 1, 0, 0, 0, 0, 0, 0, 0, 1, 0, 1, 0, 0, 0, 1, 0, 0, 0, 0, 0, 1, 0, 1, 1, 0, 0, 0, 0, 0, 0, 1, 0, 0, 1, 0, 0, 0, 1, 0, 0, 1, 0, 0, 0, 0, 0, 0, 0, 0, 0, 0, 0, 1, 1, 1, 0, 1, 1, 0, 0, 0, 0, 1, 1, 0, 1, 1, 0, 1, 1, 0, 0, 0, 0, 1, 0, 1, 0, 0, 1, 0, 0, 0, 1, 1, 0, 0, 0, 1, 0, 1, 0, 0, 0, 0, 0, 1, 1, 0, 1, 0, 1, 1, 0, 0, 0, 0, 1, 1, 0, 0, 0, 1, 1, 1, 0, 0, 1, 0, 0, 0, 0, 0, 1, 1, 0, 0, 0, 0, 0, 0, 0, 1, 0, 1, 0, 0, 0, 1, 0, 1, 0, 0, 0, 0, 0, 0, 0, 1, 0, 1, 0, 0, 0, 0, 1, 0, 1, 0, 1, 0, 0, 0, 1, 0, 1, 1, 1, 0, 0, 1, 0, 0, 0, 0, 1, 1, 0, 0, 1, 0, 1, 0, 1, 0, 1, 0, 1, 1, 0, 0, 1, 0, 0, 0, 0, 1, 0, 1, 0, 0, 0, 0, 1, 1, 0, 0, 1, 0, 0, 1, 0, 0, 0, 1, 0, 0, 0, 0, 1, 0, 0, 0, 0, 0, 0, 1, 0, 0, 0, 0, 1, 0, 1, 0, 1, 0, 0, 1, 1, 1, 1, 0, 0, 0, 0, 1, 0, 1, 0, 0, 0, 1, 1, 1, 1, 0, 0, 0, 0, 0, 1, 0, 0, 1, 1, 1, 0, 0, 1, 0, 0, 0, 0, 0, 1, 1, 0, 0, 1, 0, 0, 0, 0, 1, 0, 1, 0, 0, 0, 0, 0, 0, 0, 1, 0, 0, 1, 1, 0, 1, 0, 0, 0, 0, 0, 1, 0, 0, 1, 0, 0, 0, 0, 0, 0, 0, 1, 0, 1, 0, 0, 1, 0, 0, 1, 0, 0, 0, 0, 0, 0, 0, 1, 1, 0, 0, 0, 1, 1, 0, 0, 1, 1, 0, 0, 1, 1, 0, 0, 0, 0, 1, 0, 1, 1, 1, 1, 0, 1, 1, 0, 1, 0, 1, 0, 0, 0, 0, 1, 0, 0, 0, 0, 1, 1, 0, 0, 0, 0, 1, 0, 1, 1, 0, 1, 0, 0, 0, 0, 0, 0, 1, 1, 0, 1, 1, 1, 1, 1, 0, 0, 0, 1, 1, 1, 1, 0, 1, 1, 0, 0, 0, 1, 0, 0, 0, 1, 1, 0, 0, 1, 0, 1, 0, 1, 1, 0, 0, 0, 1, 0, 1, 0, 0, 1, 1, 0, 1, 0, 0, 0, 1, 0, 0, 1, 1, 1, 0, 1, 0, 0, 0, 0, 0, 0, 1, 1, 1, 1, 1, 1, 1, 1, 0, 0, 0, 1, 1, 0, 0, 0, 1, 1, 0, 0, 0, 0, 0, 0, 0, 0, 0, 0, 0, 0, 1, 1, 0, 0, 0, 0, 0, 0, 1, 0, 0, 0, 1, 0, 1, 1, 0, 0, 1, 0, 0, 0, 0, 0, 1, 1, 0, 0, 1, 1, 0, 1, 0, 1, 0, 1, 1, 1, 0, 0, 0, 0, 0, 1, 0, 0, 0, 0, 0, 1, 0, 1, 0, 0, 0, 0, 0, 1, 1, 0, 1, 0, 0, 0, 0, 1, 0, 1, 0, 0, 1, 0, 0, 1, 0, 1, 1, 0, 0, 1, 0, 1, 0, 0, 1, 0, 0, 0, 1, 0, 1, 0, 0, 0, 0, 1, 0, 0, 0, 1, 0, 0, 0, 0, 1, 1, 0, 1, 1, 1, 0, 1, 0, 1, 1, 0, 0, 0, 1, 0, 1, 1, 0, 0, 1, 1, 1, 0, 1, 0, 0, 0, 0, 1, 0, 1, 0, 1, 1, 0, 1, 0, 0, 0, 1, 0, 0, 1, 0, 0, 0, 0, 1, 1, 0, 0, 1, 1, 0, 0, 0, 1, 1, 1, 0, 1, 1, 0, 0, 0, 0, 1, 0, 0, 1, 1, 0, 0, 1, 0, 1, 0, 0, 0, 0, 1, 0, 0, 1, 1, 0, 1, 1, 0, 1, 0, 0, 1, 1, 1, 0, 1, 0, 0, 0, 1, 0, 0, 1, 1, 0, 0, 0, 1, 0, 1, 1, 0, 0, 1, 1, 0, 1, 0, 0, 1, 1, 0, 0, 0, 0, 0, 1, 1, 1, 0, 0, 1, 0, 0, 0, 0, 0, 0, 0, 1, 0, 1, 0, 0, 1, 0, 1, 0, 0, 0, 1, 1, 1, 0, 1, 1, 0, 0, 0, 1, 0, 1, 0, 1, 0, 0, 0, 1, 0, 0, 1, 0, 1, 0, 0, 0, 0, 1, 1, 1, 0, 0, 0, 0, 1, 0, 0, 1, 1, 0, 1, 1, 0, 1, 0, 0, 0, 0, 0, 0, 0, 1, 1, 1, 1, 0, 0, 1, 1, 1, 0, 0, 1, 1, 0, 0, 0, 1, 0, 1, 0, 1, 0, 0, 0, 0, 1, 1, 0, 0, 1, 0, 0, 1, 0, 0, 0, 0, 0, 1, 1, 0, 0, 1, 1, 0, 0, 1, 1, 0, 0, 1, 0, 1, 1, 0, 0, 0, 1, 1, 0, 0, 1, 0, 1, 0, 0, 0, 1, 0, 1, 1, 0, 1, 0, 0, 0, 1, 0, 1, 0, 0, 0, 0, 0, 1, 1, 1, 0, 1, 1, 0, 1, 0, 1, 0, 0, 0, 1, 1, 1, 0, 0, 1, 1, 0, 0, 0, 0, 0, 1, 0, 0, 0, 1, 0, 1, 0, 1, 1, 0, 0, 0, 1, 0, 0, 0, 1, 1, 0, 0, 0, 1, 0, 1, 0, 0, 1, 0, 0, 1, 0, 1, 0, 1, 1, 0, 0, 0, 0, 0, 0, 1, 0, 0, 0, 0, 1, 1, 0, 1, 0, 1, 0, 0, 1, 0, 1, 1, 1, 1, 1, 1, 0, 0, 1, 0, 0, 0, 1, 1, 0, 1, 0, 0, 0, 0, 0, 0, 1, 1, 0, 1, 0, 1, 0, 1, 1, 1, 1, 0, 1, 1, 1, 0, 0, 0, 1, 0, 0, 1, 1, 0, 1, 0, 0, 0, 0, 0, 1, 1, 0, 0, 1, 1, 0, 0, 1, 1, 0, 0, 1, 0, 0, 1, 1, 1, 0, 0, 1, 1, 1, 0, 1, 1, 0, 0, 0, 0, 0, 0, 1, 0, 1, 1, 1, 1, 1, 0, 0, 0, 0, 1, 0, 0, 1, 1, 1, 1, 1, 0, 1, 0, 1, 1, 0, 0, 1, 0, 0, 0, 0, 1, 0, 0, 0, 1, 0, 1, 1, 1, 0, 0, 0, 0, 1, 0, 0, 1, 1, 0, 0, 1, 1, 0, 1, 0, 1, 0, 0, 0, 1, 1, 0, 0, 0, 1, 1, 0, 0, 0, 0, 1, 0, 0, 0, 0, 0, 0, 1, 1, 1, 1, 0, 0, 1, 0, 1, 1, 1, 0, 0, 0, 1, 0, 0, 0, 0, 0, 1, 0, 1, 0, 0, 0, 0, 1, 0, 1, 0, 0, 1, 1, 0, 0, 0, 0, 0, 1, 1, 0, 0, 0, 1, 0, 0, 1, 0, 1, 0, 0, 0, 0, 0, 0, 0, 0, 0, 0, 1, 1, 0, 0, 1, 1, 1, 0, 0, 0, 1, 1, 1, 0, 0, 1, 1, 1, 0, 1, 0, 1, 1, 0, 0, 0, 0, 0, 0, 0, 1, 1, 0, 0, 1, 1, 1, 0, 0, 0, 1, 1, 1, 0, 0, 0, 1, 0, 0, 1, 0, 0, 1, 1, 1, 0, 1, 0, 0, 0, 0, 1, 0, 1, 0, 0, 0, 0, 1, 1, 0, 0, 0, 1, 0, 0, 1, 0, 0, 1, 1, 0, 0, 0, 0, 0, 0, 0, 0, 0, 1, 0, 0, 1, 0, 0, 1, 0, 0, 0, 0, 0, 1, 0, 1, 0, 0, 0, 0, 0, 1, 0, 0, 0, 0, 0, 1, 1, 0, 0, 0, 0, 0, 0, 0, 1, 1, 0, 0, 1, 1, 0, 1, 1, 0, 0, 0, 0, 1, 0, 1, 0, 1, 0, 0, 0, 0, 0, 0, 0, 0, 0, 0, 0, 1, 1, 0, 0, 0, 0, 0, 0, 1, 0, 0, 0, 0, 0, 0, 1, 0, 0, 0, 1, 1, 1, 1, 1, 0, 0, 0, 0, 0, 1, 0, 0, 0, 1, 1, 0, 1, 1, 1, 1, 1, 1, 1, 1, 0, 1, 1, 0, 0, 1, 0, 0, 1, 0, 0, 1, 0, 0, 0, 0, 0, 0, 0, 1, 0, 0, 1, 0, 0, 1, 0, 0, 1, 0, 0, 1, 0, 1, 0, 1, 0, 1, 0, 1, 0, 0, 0, 0, 0, 0, 0, 0, 0, 0, 0, 1, 0, 0, 1, 0, 1, 1, 0, 0, 0, 0, 1, 0, 1, 0, 0, 1, 0, 1, 1, 1, 1, 1, 1, 0, 0, 0, 0, 0, 0, 0, 1, 1, 1, 1, 0, 1, 1, 0, 1, 1, 0, 0, 0, 0, 0, 0, 0, 0, 1, 1, 0, 1, 0, 0, 1, 0, 0, 0, 0, 0, 0, 1, 1, 0, 0, 0, 1, 0, 1, 1, 0, 1, 0, 1, 0, 1, 0, 0, 0, 1, 1, 0, 0, 0, 0, 0, 0, 0, 0, 0, 0, 0, 0, 1, 1, 1, 1, 1, 1, 0, 0, 1, 0, 0, 0, 0, 1, 1, 0, 1, 1, 0, 0, 1, 1, 0, 0, 1, 1, 0, 1, 1, 0, 0, 1, 0, 1, 0, 0, 1, 1, 0, 1, 0, 0, 1, 1, 0, 0, 0, 1, 0, 1, 0, 1, 0, 0, 0, 0, 0, 0, 1, 0, 0, 0, 0, 0, 1, 0, 0, 1, 0, 0, 0, 1, 0, 1, 0, 1, 0, 1, 0, 0, 1, 0, 1, 1, 0, 0, 0, 1, 0, 1, 1, 1, 1, 0, 0, 0, 0, 0, 0, 0, 1, 0, 1, 0, 0, 0, 0, 0, 1, 0, 0, 0, 1, 1, 0, 0, 1, 1, 1, 1, 0, 0, 1, 0, 0, 0, 0, 1, 0, 0, 0, 0, 1, 0, 1, 0, 0, 1, 0, 0, 1, 0, 1, 0, 1, 0, 0, 0, 0, 0, 0, 0, 1, 1, 0, 0, 1, 1, 1, 0, 0, 0, 0, 1, 0, 0, 1, 0, 1, 0, 0, 1, 0, 0, 0, 0, 0, 0, 1, 0, 0, 0, 1, 1, 1, 0, 0, 0, 0, 0, 1, 0, 0, 1, 0, 0, 0, 0, 0, 0, 1, 0, 0, 1, 1, 1, 1, 0, 0, 0, 1, 0, 0, 0, 0, 0, 0, 0, 1, 0, 1, 0, 1, 1, 1, 1, 1, 0, 1, 0, 1, 0, 0, 1, 1, 0, 0, 0, 0, 0, 0, 1, 0, 1, 1, 1, 1, 1, 1, 1, 1, 1, 0, 0, 1, 0, 1, 1, 1, 0, 0, 1, 0, 1, 0, 0, 0, 0, 0, 1, 0, 0, 0, 0, 0, 1, 1, 1, 1, 0, 0, 0, 1, 1, 0, 0, 0, 1, 1, 0, 0, 0, 1, 0, 0, 1, 1, 0, 0, 0, 0, 0, 1, 0, 1, 1, 0, 0, 0, 0, 1, 0, 0, 0, 0, 0, 1, 1, 1, 0, 0, 0, 0, 0, 0, 0, 0, 0, 0, 1, 1, 1, 0, 0, 0, 0, 0, 0, 0, 1, 1, 0, 0, 0, 1, 0, 0, 0, 1, 1, 0, 1, 0, 0, 0, 0, 0, 0, 0, 0, 1, 1, 1, 0, 0, 0, 0, 1, 0, 0, 0, 1, 0, 1, 0, 0, 0, 0, 1, 1, 0, 1, 0, 1, 0, 1, 1, 0, 0, 0, 0, 1, 0, 1, 0, 1, 0, 1, 0, 1, 1, 1, 0, 1, 0, 1, 0, 0, 0, 0, 1, 1, 0, 1, 0, 0, 0, 0, 1, 0, 1, 0, 0, 0, 0, 1, 1, 0, 0, 0, 1, 1, 0, 0, 0, 0, 1, 0, 0, 1, 0, 1, 1, 0, 0, 0, 1, 1, 1, 0, 0, 1, 0, 0, 0, 0, 0, 0, 1, 0, 0, 1, 1, 0, 0, 0, 1, 1, 0, 0, 0, 1, 1, 0, 1, 0, 1, 0, 0, 1, 1, 0, 0, 1, 0, 0, 1, 1, 0, 1, 0, 1, 1, 0, 0, 1, 0, 0, 0, 0, 0, 0, 0, 0, 1, 0, 0, 1, 0, 0, 0, 0, 0, 0, 0, 0, 0, 0, 0, 0, 1, 0, 1, 0, 0, 0, 1, 0, 0, 0, 0, 0, 0, 1, 0, 0, 0, 1, 1, 0, 0, 0, 0, 0, 1, 0, 0, 1, 1, 1, 1, 1, 0, 0, 0, 1, 0, 0, 0, 0, 1, 0, 1, 1, 0, 0, 0, 0, 0, 0, 0, 1, 0, 0, 0, 0, 1, 1, 1, 0, 1, 0, 1, 0, 0, 0, 0, 0, 1, 0, 0, 1, 1, 0, 0, 0, 0, 1, 1, 0, 0, 0, 0, 1, 1, 1, 1, 0, 1, 0, 0, 1, 1, 0, 0, 0, 1, 0, 1, 1, 0, 1, 0, 1, 0, 0, 0, 0, 1, 0, 0, 1, 1, 1, 0, 0, 1, 0, 1, 0, 0, 0, 1, 1, 1, 0, 0, 0, 0, 0, 1, 0, 1, 0, 0, 1, 1, 0, 0, 0, 0, 1, 0, 1, 1, 0, 1, 1, 1, 0, 0, 0, 1, 0, 1, 1, 0, 0, 0, 1, 0, 0, 0, 1, 1, 1, 1, 0, 1, 0, 1, 0, 0, 0, 0, 0, 0, 1, 0, 1, 0, 1, 1, 0, 0, 0, 1, 0, 1, 0, 1, 1, 0, 0, 0, 1, 0, 1, 1, 1, 0, 0, 1, 0, 1, 1, 0, 0, 0, 1, 0, 0, 0, 0, 1, 0, 0, 0, 0, 1, 0, 0, 1, 1, 1, 1, 1, 0, 0, 0, 0, 1, 0, 0, 0, 0, 1, 0, 1, 1, 1, 0, 0, 1, 0, 0, 0, 0, 0, 0, 1, 0, 1, 0, 0, 1, 0, 0, 0, 0, 0, 0, 0, 0, 0, 1, 1, 0, 0, 0, 0, 0, 1, 1, 0, 0, 0, 1, 1, 0, 0, 0, 1, 0, 1, 0, 0, 1, 0, 0, 0, 0, 0, 0, 1, 1, 0, 1, 1, 1, 0, 1, 0, 0, 0, 0, 1, 0, 1, 1, 0, 0, 1, 1, 0, 0, 0, 0, 0, 1, 0, 0, 0, 1, 0, 0, 0, 0, 0, 1, 1, 0, 0, 1, 0, 0, 0, 1, 0, 0, 1, 0, 1, 0, 1, 0, 0, 0, 0, 0, 0, 0, 1, 1, 1, 0, 1, 0, 0, 1, 1, 0, 0, 1, 0, 1, 0, 0, 0, 0, 1, 0, 1, 0, 0, 1, 0, 0, 1, 0, 0, 1, 0, 1, 1, 0, 0, 1, 0, 0, 1, 0, 0, 1, 0, 0, 0, 0, 0, 0, 1, 0, 0, 0, 0, 1, 1, 0, 1, 0, 1, 0, 0, 0, 1, 0, 0, 0, 1, 0, 0, 1, 1, 1, 0, 0, 1, 1, 0, 0, 1, 1, 0, 0, 1, 0, 0, 0, 0, 1, 0, 0, 0, 1, 0, 1, 0, 0, 0, 0, 0, 0, 1, 0, 1, 1, 1, 0, 0, 1, 0, 0, 0, 1, 0, 0, 1, 0, 1, 1, 1, 1, 0, 1, 0, 1, 0, 0, 1, 0, 1, 0, 0, 1, 1, 0, 0, 0, 0, 0, 0, 0, 0, 0, 1, 0, 1, 0, 1, 0, 1, 0, 0, 0, 1, 0, 1, 1, 0, 1, 0, 1, 0, 1, 0, 1, 0, 0, 0, 0, 0, 0, 1, 0, 0, 1, 0, 0, 0, 1, 0, 0, 0, 1, 0, 0, 0, 0, 0, 0, 1, 0, 0, 0, 0, 0, 0, 0, 1, 1, 0, 1, 0, 1, 1, 1, 1, 0, 1, 0, 0, 0, 0, 0, 0, 0, 1, 1, 0, 1, 0, 0, 0, 0, 0, 0, 0, 0, 0, 0, 0, 0, 0, 0, 0, 0, 0, 0, 0, 1, 0, 0, 0, 1, 0, 0, 0, 0, 0, 0, 1, 0, 1, 0, 0, 0, 1, 1, 1, 1, 0, 0, 1, 0, 0, 1, 0, 0, 0, 0, 0, 0, 0, 1, 0, 1, 0, 0, 1, 1, 1, 0, 1, 0, 0, 0, 1, 1, 1, 0, 1, 1, 0, 1, 0, 1, 0, 0, 1, 1, 1, 1, 0, 1, 0, 0, 0, 0, 1, 0, 1, 1, 0, 0, 1, 0, 0, 1, 1, 1, 0, 0, 0, 0, 0, 1, 1, 1, 0, 1, 1, 0, 1, 0, 0, 0, 1, 0, 0, 1, 1, 1, 1, 0, 0, 0, 0, 1, 0, 1, 1, 0, 1, 0, 1, 1, 0, 1, 1, 1, 1, 0, 0, 1, 0, 0, 1, 0, 0, 0, 0, 1, 1, 1, 1, 1, 1, 0, 1, 0, 0, 1, 1, 1, 0, 1, 0, 0, 0, 1, 0, 0, 1, 0, 0, 0, 1, 0, 1, 0, 0, 0, 1, 1, 0, 1, 0, 0, 0, 0, 0, 1, 1, 1, 0, 1, 0, 1, 1, 0, 0, 1, 0, 0, 1, 0, 1, 1, 0, 1, 0, 0, 1, 1, 0, 0, 0, 1, 1, 0, 1, 0, 1, 1, 0, 1, 1, 0, 0, 0, 0, 1, 0, 1, 0, 0, 0, 1, 0, 1, 0, 1, 0, 0, 0, 0, 1, 1, 0, 0, 1, 1, 0, 0, 0, 0, 1, 1, 1, 0, 1, 0, 0, 1, 0, 1, 0, 1, 0, 0, 1, 0, 1, 1, 0, 0, 1, 0, 1, 0, 1, 0, 0, 1, 1, 0, 0, 1, 0, 1, 0, 1, 0, 0, 1, 0, 1, 0, 0, 0, 0, 1, 1, 0, 0, 1, 1, 1, 1, 1, 1, 0, 0, 0, 0, 0, 1, 1, 0, 0, 0, 0, 0, 0, 1, 1, 0, 1, 1, 0, 1, 1, 1, 1, 1, 0, 0, 1, 1, 1, 1, 0, 0, 1, 1, 1, 0, 0, 0, 0, 0, 0, 0, 0, 0, 0, 1, 1, 0, 1, 0, 0, 1, 0, 0, 0, 0, 0, 0, 1, 1, 0, 1, 0, 1, 0, 0, 0, 0, 0, 0, 0, 0, 1, 1, 0, 1, 1, 0, 1, 1, 0, 1, 0, 1, 1, 1, 0, 0, 1, 1, 0, 1, 0, 1, 1, 0, 0, 0, 0, 1, 1, 0, 0, 0, 1, 1, 1, 0, 1, 1, 1, 1, 0, 0, 1, 0, 0, 0, 0, 1, 1, 0, 0, 1, 0, 0, 0, 0, 0, 0, 1, 1, 1, 0, 1, 0, 1, 0, 0, 0, 0, 0, 0, 0, 0, 1, 0, 0, 0, 0, 0, 0, 0, 0, 0, 0, 0, 1, 0, 1, 0, 0, 0, 0, 0, 0, 0, 0, 0, 0, 0, 0, 0, 0, 1, 0, 0, 1, 1, 0, 0, 0, 0, 1, 0, 0, 1, 0, 0, 1, 0, 0, 1, 1, 0, 1, 1, 0, 1, 1, 1, 0, 0, 0, 1, 0, 0, 1, 0, 0, 0, 1, 1, 0, 0, 0, 1, 0, 0, 1, 0, 0, 0, 0, 0, 0, 1, 1, 1, 0, 0, 0, 0, 0, 0, 1, 0, 1, 0, 0, 0, 1, 0, 1, 0, 0, 0, 0, 0, 0, 1, 1, 0, 1, 0, 0, 0, 1, 1, 0, 0, 1, 0, 0, 0, 1, 0, 1, 1, 0, 1, 1, 1, 0, 0, 0, 0, 0, 0, 0, 1, 0, 0, 0, 0, 0, 0, 0, 0, 0, 0, 1, 0, 0, 0, 0, 0, 0, 1, 0, 0, 0, 0, 0, 0, 0, 0, 0, 0, 0, 1, 1, 1, 1, 0, 1, 1, 1, 0, 1, 1, 1, 0, 0, 0, 0, 0, 0, 0, 1, 0, 0, 0, 1, 1, 0, 1, 0, 1, 0, 0, 1, 0, 0, 0, 0, 0, 1, 1, 0, 1, 1, 0, 1, 0, 0, 1, 1, 0, 0, 1, 0, 1, 1, 0, 1, 0, 1, 0, 1, 0, 0, 1, 1, 0, 0, 0, 0, 0, 0, 0, 0, 1, 0, 0, 0, 0, 0, 0, 0, 0, 1, 1, 0, 0, 1, 0, 1, 0, 1, 0, 1, 1, 0, 1, 1, 0, 0, 0, 1, 0, 1, 0, 0, 1, 1, 1, 0, 0, 1, 0, 1, 1, 1, 1, 1, 1, 0, 0, 1, 0, 0, 1, 1, 0, 0, 0, 0, 1, 0, 1, 0, 1, 0, 0, 0, 0, 1, 0, 0, 0, 0, 1, 0, 0, 0, 1, 1, 0, 1, 0, 0, 1, 0, 0, 0, 0, 1, 1, 0, 0, 0, 1, 1, 0, 0, 0, 0, 1, 0, 1, 0, 1, 1, 1, 1, 0, 1, 1, 0, 0, 0, 0, 1, 0, 0, 1, 0, 0, 0, 1, 0, 0, 1, 0, 0, 0, 0, 0, 1, 0, 0, 0, 0, 0, 1, 1, 0, 1, 0, 0, 0, 0, 0, 0, 0, 1, 0, 0, 1, 0, 0, 0, 0, 1, 1, 0, 1, 1, 0, 0, 0, 0, 0, 0, 0, 1, 0, 0, 1, 0, 0, 0, 1, 0, 0, 0, 0, 0, 0, 0, 1, 1, 0, 0, 0, 0, 0, 0, 0, 0, 1, 1, 0, 0, 1, 0, 0, 1, 0, 0, 0, 1, 0, 0, 0, 0, 1, 1, 1, 1, 0, 1, 0, 0, 1, 0, 1, 0, 1, 1, 1, 1, 0, 0, 0, 1, 0, 0, 0, 1, 1, 0, 0, 1, 0, 0, 1, 0, 0, 0, 0, 0, 0, 1, 0, 0, 1, 0, 0, 0, 0, 1, 1, 0, 0, 1, 0, 0, 0, 0, 1, 0, 0, 1, 0, 0, 0, 0, 0, 0, 1, 1, 0, 1, 0, 1, 0, 1, 0, 1, 0, 1, 0, 1, 0, 0, 1, 0, 1, 1, 1, 0, 0, 1, 0, 1, 0, 1, 0, 1, 1, 0, 1, 0, 0, 0, 1, 0, 0, 0, 1, 0, 0, 0, 0, 0, 1, 0, 0, 0, 1, 1, 0, 0, 0, 0, 1, 0, 1, 1, 1, 0, 0, 1, 1, 1, 0, 0, 0, 1, 1, 1, 1, 1, 0, 0, 0, 0, 0, 1, 1, 0, 0, 1, 1, 0, 1, 1, 0, 1, 1, 0, 1, 0, 0, 1, 1, 1, 0, 0, 1, 0, 0, 1, 0, 1, 0, 0, 0, 1, 1, 0, 0, 0, 0, 1, 1, 0, 0, 0, 1, 0, 0, 1, 0, 0, 0, 0, 0, 0, 0, 0, 1, 0, 0, 0, 1, 0, 0, 0, 1, 0, 1, 1, 0, 0, 0, 1, 1, 0, 0, 1, 1, 1, 0, 0, 0, 0, 0, 1, 0, 0, 0, 0, 1, 0, 0, 0, 1, 0, 0, 1, 1, 0, 0, 1, 1, 0, 1, 0, 0, 1, 1, 1, 0, 1, 0, 0, 1, 1, 1, 1, 0, 0, 1, 0, 0, 1, 0, 1, 0, 1, 1, 1, 0, 0, 0, 1, 1, 0, 1, 1, 0, 0, 1, 1, 0, 1, 0, 1, 1, 0, 0]\n"
     ]
    }
   ],
   "source": [
    "y_test\n",
    "print(len(y_test))\n",
    "print(y_test)"
   ]
  },
  {
   "cell_type": "code",
   "execution_count": 29,
   "metadata": {},
   "outputs": [
    {
     "name": "stdout",
     "output_type": "stream",
     "text": [
      "[0. 0. 1. ... 1. 0. 0.]\n"
     ]
    }
   ],
   "source": [
    "y_rfr_predicted=np.around(y_rfr_predicted)\n",
    "print(y_rfr_predicted)"
   ]
  },
  {
   "cell_type": "code",
   "execution_count": 30,
   "metadata": {},
   "outputs": [
    {
     "name": "stdout",
     "output_type": "stream",
     "text": [
      "2778\n",
      "69\n"
     ]
    }
   ],
   "source": [
    "q=(y_test == y_rfr_predicted).sum()\n",
    "print((y_test == y_rfr_predicted).sum())\n",
    "print(q*100/len(y_test))"
   ]
  },
  {
   "cell_type": "code",
   "execution_count": 31,
   "metadata": {},
   "outputs": [
    {
     "name": "stdout",
     "output_type": "stream",
     "text": [
      "4000\n",
      "[1, 0, 1, 0, 0, 0, 0, 0, 1, 1, 1, 0, 1, 0, 0, 0, 0, 0, 0, 1, 0, 0, 0, 0, 0, 0, 0, 0, 0, 0, 0, 0, 1, 0, 0, 1, 0, 0, 0, 0, 0, 1, 1, 1, 1, 0, 1, 1, 1, 0, 0, 1, 0, 1, 1, 1, 1, 0, 0, 0, 0, 0, 0, 0, 0, 0, 1, 1, 1, 0, 1, 1, 1, 0, 0, 0, 0, 0, 1, 0, 0, 1, 0, 0, 1, 0, 1, 1, 0, 0, 1, 1, 0, 0, 1, 1, 1, 0, 0, 1, 1, 1, 1, 1, 0, 0, 0, 0, 1, 1, 0, 0, 0, 0, 0, 0, 0, 1, 0, 0, 1, 0, 0, 0, 1, 1, 0, 1, 0, 0, 1, 0, 0, 1, 1, 0, 0, 0, 1, 0, 1, 1, 0, 1, 0, 0, 0, 1, 1, 1, 0, 0, 1, 0, 0, 0, 0, 0, 0, 1, 0, 0, 1, 0, 1, 1, 0, 1, 1, 0, 1, 0, 1, 0, 1, 1, 0, 1, 0, 0, 0, 0, 0, 0, 0, 0, 0, 0, 0, 0, 0, 1, 1, 0, 1, 0, 1, 0, 0, 0, 1, 1, 0, 0, 0, 0, 0, 0, 0, 1, 0, 1, 0, 0, 0, 1, 0, 0, 0, 0, 0, 1, 0, 1, 1, 0, 0, 0, 0, 0, 0, 1, 0, 0, 1, 0, 0, 0, 1, 0, 0, 1, 0, 0, 0, 0, 0, 0, 0, 0, 0, 0, 0, 1, 1, 1, 0, 1, 1, 0, 0, 0, 0, 1, 1, 0, 1, 1, 0, 1, 1, 0, 0, 0, 0, 1, 0, 1, 0, 0, 1, 0, 0, 0, 1, 1, 0, 0, 0, 1, 0, 1, 0, 0, 0, 0, 0, 1, 1, 0, 1, 0, 1, 1, 0, 0, 0, 0, 1, 1, 0, 0, 0, 1, 1, 1, 0, 0, 1, 0, 0, 0, 0, 0, 1, 1, 0, 0, 0, 0, 0, 0, 0, 1, 0, 1, 0, 0, 0, 1, 0, 1, 0, 0, 0, 0, 0, 0, 0, 1, 0, 1, 0, 0, 0, 0, 1, 0, 1, 0, 1, 0, 0, 0, 1, 0, 1, 1, 1, 0, 0, 1, 0, 0, 0, 0, 1, 1, 0, 0, 1, 0, 1, 0, 1, 0, 1, 0, 1, 1, 0, 0, 1, 0, 0, 0, 0, 1, 0, 1, 0, 0, 0, 0, 1, 1, 0, 0, 1, 0, 0, 1, 0, 0, 0, 1, 0, 0, 0, 0, 1, 0, 0, 0, 0, 0, 0, 1, 0, 0, 0, 0, 1, 0, 1, 0, 1, 0, 0, 1, 1, 1, 1, 0, 0, 0, 0, 1, 0, 1, 0, 0, 0, 1, 1, 1, 1, 0, 0, 0, 0, 0, 1, 0, 0, 1, 1, 1, 0, 0, 1, 0, 0, 0, 0, 0, 1, 1, 0, 0, 1, 0, 0, 0, 0, 1, 0, 1, 0, 0, 0, 0, 0, 0, 0, 1, 0, 0, 1, 1, 0, 1, 0, 0, 0, 0, 0, 1, 0, 0, 1, 0, 0, 0, 0, 0, 0, 0, 1, 0, 1, 0, 0, 1, 0, 0, 1, 0, 0, 0, 0, 0, 0, 0, 1, 1, 0, 0, 0, 1, 1, 0, 0, 1, 1, 0, 0, 1, 1, 0, 0, 0, 0, 1, 0, 1, 1, 1, 1, 0, 1, 1, 0, 1, 0, 1, 0, 0, 0, 0, 1, 0, 0, 0, 0, 1, 1, 0, 0, 0, 0, 1, 0, 1, 1, 0, 1, 0, 0, 0, 0, 0, 0, 1, 1, 0, 1, 1, 1, 1, 1, 0, 0, 0, 1, 1, 1, 1, 0, 1, 1, 0, 0, 0, 1, 0, 0, 0, 1, 1, 0, 0, 1, 0, 1, 0, 1, 1, 0, 0, 0, 1, 0, 1, 0, 0, 1, 1, 0, 1, 0, 0, 0, 1, 0, 0, 1, 1, 1, 0, 1, 0, 0, 0, 0, 0, 0, 1, 1, 1, 1, 1, 1, 1, 1, 0, 0, 0, 1, 1, 0, 0, 0, 1, 1, 0, 0, 0, 0, 0, 0, 0, 0, 0, 0, 0, 0, 1, 1, 0, 0, 0, 0, 0, 0, 1, 0, 0, 0, 1, 0, 1, 1, 0, 0, 1, 0, 0, 0, 0, 0, 1, 1, 0, 0, 1, 1, 0, 1, 0, 1, 0, 1, 1, 1, 0, 0, 0, 0, 0, 1, 0, 0, 0, 0, 0, 1, 0, 1, 0, 0, 0, 0, 0, 1, 1, 0, 1, 0, 0, 0, 0, 1, 0, 1, 0, 0, 1, 0, 0, 1, 0, 1, 1, 0, 0, 1, 0, 1, 0, 0, 1, 0, 0, 0, 1, 0, 1, 0, 0, 0, 0, 1, 0, 0, 0, 1, 0, 0, 0, 0, 1, 1, 0, 1, 1, 1, 0, 1, 0, 1, 1, 0, 0, 0, 1, 0, 1, 1, 0, 0, 1, 1, 1, 0, 1, 0, 0, 0, 0, 1, 0, 1, 0, 1, 1, 0, 1, 0, 0, 0, 1, 0, 0, 1, 0, 0, 0, 0, 1, 1, 0, 0, 1, 1, 0, 0, 0, 1, 1, 1, 0, 1, 1, 0, 0, 0, 0, 1, 0, 0, 1, 1, 0, 0, 1, 0, 1, 0, 0, 0, 0, 1, 0, 0, 1, 1, 0, 1, 1, 0, 1, 0, 0, 1, 1, 1, 0, 1, 0, 0, 0, 1, 0, 0, 1, 1, 0, 0, 0, 1, 0, 1, 1, 0, 0, 1, 1, 0, 1, 0, 0, 1, 1, 0, 0, 0, 0, 0, 1, 1, 1, 0, 0, 1, 0, 0, 0, 0, 0, 0, 0, 1, 0, 1, 0, 0, 1, 0, 1, 0, 0, 0, 1, 1, 1, 0, 1, 1, 0, 0, 0, 1, 0, 1, 0, 1, 0, 0, 0, 1, 0, 0, 1, 0, 1, 0, 0, 0, 0, 1, 1, 1, 0, 0, 0, 0, 1, 0, 0, 1, 1, 0, 1, 1, 0, 1, 0, 0, 0, 0, 0, 0, 0, 1, 1, 1, 1, 0, 0, 1, 1, 1, 0, 0, 1, 1, 0, 0, 0, 1, 0, 1, 0, 1, 0, 0, 0, 0, 1, 1, 0, 0, 1, 0, 0, 1, 0, 0, 0, 0, 0, 1, 1, 0, 0, 1, 1, 0, 0, 1, 1, 0, 0, 1, 0, 1, 1, 0, 0, 0, 1, 1, 0, 0, 1, 0, 1, 0, 0, 0, 1, 0, 1, 1, 0, 1, 0, 0, 0, 1, 0, 1, 0, 0, 0, 0, 0, 1, 1, 1, 0, 1, 1, 0, 1, 0, 1, 0, 0, 0, 1, 1, 1, 0, 0, 1, 1, 0, 0, 0, 0, 0, 1, 0, 0, 0, 1, 0, 1, 0, 1, 1, 0, 0, 0, 1, 0, 0, 0, 1, 1, 0, 0, 0, 1, 0, 1, 0, 0, 1, 0, 0, 1, 0, 1, 0, 1, 1, 0, 0, 0, 0, 0, 0, 1, 0, 0, 0, 0, 1, 1, 0, 1, 0, 1, 0, 0, 1, 0, 1, 1, 1, 1, 1, 1, 0, 0, 1, 0, 0, 0, 1, 1, 0, 1, 0, 0, 0, 0, 0, 0, 1, 1, 0, 1, 0, 1, 0, 1, 1, 1, 1, 0, 1, 1, 1, 0, 0, 0, 1, 0, 0, 1, 1, 0, 1, 0, 0, 0, 0, 0, 1, 1, 0, 0, 1, 1, 0, 0, 1, 1, 0, 0, 1, 0, 0, 1, 1, 1, 0, 0, 1, 1, 1, 0, 1, 1, 0, 0, 0, 0, 0, 0, 1, 0, 1, 1, 1, 1, 1, 0, 0, 0, 0, 1, 0, 0, 1, 1, 1, 1, 1, 0, 1, 0, 1, 1, 0, 0, 1, 0, 0, 0, 0, 1, 0, 0, 0, 1, 0, 1, 1, 1, 0, 0, 0, 0, 1, 0, 0, 1, 1, 0, 0, 1, 1, 0, 1, 0, 1, 0, 0, 0, 1, 1, 0, 0, 0, 1, 1, 0, 0, 0, 0, 1, 0, 0, 0, 0, 0, 0, 1, 1, 1, 1, 0, 0, 1, 0, 1, 1, 1, 0, 0, 0, 1, 0, 0, 0, 0, 0, 1, 0, 1, 0, 0, 0, 0, 1, 0, 1, 0, 0, 1, 1, 0, 0, 0, 0, 0, 1, 1, 0, 0, 0, 1, 0, 0, 1, 0, 1, 0, 0, 0, 0, 0, 0, 0, 0, 0, 0, 1, 1, 0, 0, 1, 1, 1, 0, 0, 0, 1, 1, 1, 0, 0, 1, 1, 1, 0, 1, 0, 1, 1, 0, 0, 0, 0, 0, 0, 0, 1, 1, 0, 0, 1, 1, 1, 0, 0, 0, 1, 1, 1, 0, 0, 0, 1, 0, 0, 1, 0, 0, 1, 1, 1, 0, 1, 0, 0, 0, 0, 1, 0, 1, 0, 0, 0, 0, 1, 1, 0, 0, 0, 1, 0, 0, 1, 0, 0, 1, 1, 0, 0, 0, 0, 0, 0, 0, 0, 0, 1, 0, 0, 1, 0, 0, 1, 0, 0, 0, 0, 0, 1, 0, 1, 0, 0, 0, 0, 0, 1, 0, 0, 0, 0, 0, 1, 1, 0, 0, 0, 0, 0, 0, 0, 1, 1, 0, 0, 1, 1, 0, 1, 1, 0, 0, 0, 0, 1, 0, 1, 0, 1, 0, 0, 0, 0, 0, 0, 0, 0, 0, 0, 0, 1, 1, 0, 0, 0, 0, 0, 0, 1, 0, 0, 0, 0, 0, 0, 1, 0, 0, 0, 1, 1, 1, 1, 1, 0, 0, 0, 0, 0, 1, 0, 0, 0, 1, 1, 0, 1, 1, 1, 1, 1, 1, 1, 1, 0, 1, 1, 0, 0, 1, 0, 0, 1, 0, 0, 1, 0, 0, 0, 0, 0, 0, 0, 1, 0, 0, 1, 0, 0, 1, 0, 0, 1, 0, 0, 1, 0, 1, 0, 1, 0, 1, 0, 1, 0, 0, 0, 0, 0, 0, 0, 0, 0, 0, 0, 1, 0, 0, 1, 0, 1, 1, 0, 0, 0, 0, 1, 0, 1, 0, 0, 1, 0, 1, 1, 1, 1, 1, 1, 0, 0, 0, 0, 0, 0, 0, 1, 1, 1, 1, 0, 1, 1, 0, 1, 1, 0, 0, 0, 0, 0, 0, 0, 0, 1, 1, 0, 1, 0, 0, 1, 0, 0, 0, 0, 0, 0, 1, 1, 0, 0, 0, 1, 0, 1, 1, 0, 1, 0, 1, 0, 1, 0, 0, 0, 1, 1, 0, 0, 0, 0, 0, 0, 0, 0, 0, 0, 0, 0, 1, 1, 1, 1, 1, 1, 0, 0, 1, 0, 0, 0, 0, 1, 1, 0, 1, 1, 0, 0, 1, 1, 0, 0, 1, 1, 0, 1, 1, 0, 0, 1, 0, 1, 0, 0, 1, 1, 0, 1, 0, 0, 1, 1, 0, 0, 0, 1, 0, 1, 0, 1, 0, 0, 0, 0, 0, 0, 1, 0, 0, 0, 0, 0, 1, 0, 0, 1, 0, 0, 0, 1, 0, 1, 0, 1, 0, 1, 0, 0, 1, 0, 1, 1, 0, 0, 0, 1, 0, 1, 1, 1, 1, 0, 0, 0, 0, 0, 0, 0, 1, 0, 1, 0, 0, 0, 0, 0, 1, 0, 0, 0, 1, 1, 0, 0, 1, 1, 1, 1, 0, 0, 1, 0, 0, 0, 0, 1, 0, 0, 0, 0, 1, 0, 1, 0, 0, 1, 0, 0, 1, 0, 1, 0, 1, 0, 0, 0, 0, 0, 0, 0, 1, 1, 0, 0, 1, 1, 1, 0, 0, 0, 0, 1, 0, 0, 1, 0, 1, 0, 0, 1, 0, 0, 0, 0, 0, 0, 1, 0, 0, 0, 1, 1, 1, 0, 0, 0, 0, 0, 1, 0, 0, 1, 0, 0, 0, 0, 0, 0, 1, 0, 0, 1, 1, 1, 1, 0, 0, 0, 1, 0, 0, 0, 0, 0, 0, 0, 1, 0, 1, 0, 1, 1, 1, 1, 1, 0, 1, 0, 1, 0, 0, 1, 1, 0, 0, 0, 0, 0, 0, 1, 0, 1, 1, 1, 1, 1, 1, 1, 1, 1, 0, 0, 1, 0, 1, 1, 1, 0, 0, 1, 0, 1, 0, 0, 0, 0, 0, 1, 0, 0, 0, 0, 0, 1, 1, 1, 1, 0, 0, 0, 1, 1, 0, 0, 0, 1, 1, 0, 0, 0, 1, 0, 0, 1, 1, 0, 0, 0, 0, 0, 1, 0, 1, 1, 0, 0, 0, 0, 1, 0, 0, 0, 0, 0, 1, 1, 1, 0, 0, 0, 0, 0, 0, 0, 0, 0, 0, 1, 1, 1, 0, 0, 0, 0, 0, 0, 0, 1, 1, 0, 0, 0, 1, 0, 0, 0, 1, 1, 0, 1, 0, 0, 0, 0, 0, 0, 0, 0, 1, 1, 1, 0, 0, 0, 0, 1, 0, 0, 0, 1, 0, 1, 0, 0, 0, 0, 1, 1, 0, 1, 0, 1, 0, 1, 1, 0, 0, 0, 0, 1, 0, 1, 0, 1, 0, 1, 0, 1, 1, 1, 0, 1, 0, 1, 0, 0, 0, 0, 1, 1, 0, 1, 0, 0, 0, 0, 1, 0, 1, 0, 0, 0, 0, 1, 1, 0, 0, 0, 1, 1, 0, 0, 0, 0, 1, 0, 0, 1, 0, 1, 1, 0, 0, 0, 1, 1, 1, 0, 0, 1, 0, 0, 0, 0, 0, 0, 1, 0, 0, 1, 1, 0, 0, 0, 1, 1, 0, 0, 0, 1, 1, 0, 1, 0, 1, 0, 0, 1, 1, 0, 0, 1, 0, 0, 1, 1, 0, 1, 0, 1, 1, 0, 0, 1, 0, 0, 0, 0, 0, 0, 0, 0, 1, 0, 0, 1, 0, 0, 0, 0, 0, 0, 0, 0, 0, 0, 0, 0, 1, 0, 1, 0, 0, 0, 1, 0, 0, 0, 0, 0, 0, 1, 0, 0, 0, 1, 1, 0, 0, 0, 0, 0, 1, 0, 0, 1, 1, 1, 1, 1, 0, 0, 0, 1, 0, 0, 0, 0, 1, 0, 1, 1, 0, 0, 0, 0, 0, 0, 0, 1, 0, 0, 0, 0, 1, 1, 1, 0, 1, 0, 1, 0, 0, 0, 0, 0, 1, 0, 0, 1, 1, 0, 0, 0, 0, 1, 1, 0, 0, 0, 0, 1, 1, 1, 1, 0, 1, 0, 0, 1, 1, 0, 0, 0, 1, 0, 1, 1, 0, 1, 0, 1, 0, 0, 0, 0, 1, 0, 0, 1, 1, 1, 0, 0, 1, 0, 1, 0, 0, 0, 1, 1, 1, 0, 0, 0, 0, 0, 1, 0, 1, 0, 0, 1, 1, 0, 0, 0, 0, 1, 0, 1, 1, 0, 1, 1, 1, 0, 0, 0, 1, 0, 1, 1, 0, 0, 0, 1, 0, 0, 0, 1, 1, 1, 1, 0, 1, 0, 1, 0, 0, 0, 0, 0, 0, 1, 0, 1, 0, 1, 1, 0, 0, 0, 1, 0, 1, 0, 1, 1, 0, 0, 0, 1, 0, 1, 1, 1, 0, 0, 1, 0, 1, 1, 0, 0, 0, 1, 0, 0, 0, 0, 1, 0, 0, 0, 0, 1, 0, 0, 1, 1, 1, 1, 1, 0, 0, 0, 0, 1, 0, 0, 0, 0, 1, 0, 1, 1, 1, 0, 0, 1, 0, 0, 0, 0, 0, 0, 1, 0, 1, 0, 0, 1, 0, 0, 0, 0, 0, 0, 0, 0, 0, 1, 1, 0, 0, 0, 0, 0, 1, 1, 0, 0, 0, 1, 1, 0, 0, 0, 1, 0, 1, 0, 0, 1, 0, 0, 0, 0, 0, 0, 1, 1, 0, 1, 1, 1, 0, 1, 0, 0, 0, 0, 1, 0, 1, 1, 0, 0, 1, 1, 0, 0, 0, 0, 0, 1, 0, 0, 0, 1, 0, 0, 0, 0, 0, 1, 1, 0, 0, 1, 0, 0, 0, 1, 0, 0, 1, 0, 1, 0, 1, 0, 0, 0, 0, 0, 0, 0, 1, 1, 1, 0, 1, 0, 0, 1, 1, 0, 0, 1, 0, 1, 0, 0, 0, 0, 1, 0, 1, 0, 0, 1, 0, 0, 1, 0, 0, 1, 0, 1, 1, 0, 0, 1, 0, 0, 1, 0, 0, 1, 0, 0, 0, 0, 0, 0, 1, 0, 0, 0, 0, 1, 1, 0, 1, 0, 1, 0, 0, 0, 1, 0, 0, 0, 1, 0, 0, 1, 1, 1, 0, 0, 1, 1, 0, 0, 1, 1, 0, 0, 1, 0, 0, 0, 0, 1, 0, 0, 0, 1, 0, 1, 0, 0, 0, 0, 0, 0, 1, 0, 1, 1, 1, 0, 0, 1, 0, 0, 0, 1, 0, 0, 1, 0, 1, 1, 1, 1, 0, 1, 0, 1, 0, 0, 1, 0, 1, 0, 0, 1, 1, 0, 0, 0, 0, 0, 0, 0, 0, 0, 1, 0, 1, 0, 1, 0, 1, 0, 0, 0, 1, 0, 1, 1, 0, 1, 0, 1, 0, 1, 0, 1, 0, 0, 0, 0, 0, 0, 1, 0, 0, 1, 0, 0, 0, 1, 0, 0, 0, 1, 0, 0, 0, 0, 0, 0, 1, 0, 0, 0, 0, 0, 0, 0, 1, 1, 0, 1, 0, 1, 1, 1, 1, 0, 1, 0, 0, 0, 0, 0, 0, 0, 1, 1, 0, 1, 0, 0, 0, 0, 0, 0, 0, 0, 0, 0, 0, 0, 0, 0, 0, 0, 0, 0, 0, 1, 0, 0, 0, 1, 0, 0, 0, 0, 0, 0, 1, 0, 1, 0, 0, 0, 1, 1, 1, 1, 0, 0, 1, 0, 0, 1, 0, 0, 0, 0, 0, 0, 0, 1, 0, 1, 0, 0, 1, 1, 1, 0, 1, 0, 0, 0, 1, 1, 1, 0, 1, 1, 0, 1, 0, 1, 0, 0, 1, 1, 1, 1, 0, 1, 0, 0, 0, 0, 1, 0, 1, 1, 0, 0, 1, 0, 0, 1, 1, 1, 0, 0, 0, 0, 0, 1, 1, 1, 0, 1, 1, 0, 1, 0, 0, 0, 1, 0, 0, 1, 1, 1, 1, 0, 0, 0, 0, 1, 0, 1, 1, 0, 1, 0, 1, 1, 0, 1, 1, 1, 1, 0, 0, 1, 0, 0, 1, 0, 0, 0, 0, 1, 1, 1, 1, 1, 1, 0, 1, 0, 0, 1, 1, 1, 0, 1, 0, 0, 0, 1, 0, 0, 1, 0, 0, 0, 1, 0, 1, 0, 0, 0, 1, 1, 0, 1, 0, 0, 0, 0, 0, 1, 1, 1, 0, 1, 0, 1, 1, 0, 0, 1, 0, 0, 1, 0, 1, 1, 0, 1, 0, 0, 1, 1, 0, 0, 0, 1, 1, 0, 1, 0, 1, 1, 0, 1, 1, 0, 0, 0, 0, 1, 0, 1, 0, 0, 0, 1, 0, 1, 0, 1, 0, 0, 0, 0, 1, 1, 0, 0, 1, 1, 0, 0, 0, 0, 1, 1, 1, 0, 1, 0, 0, 1, 0, 1, 0, 1, 0, 0, 1, 0, 1, 1, 0, 0, 1, 0, 1, 0, 1, 0, 0, 1, 1, 0, 0, 1, 0, 1, 0, 1, 0, 0, 1, 0, 1, 0, 0, 0, 0, 1, 1, 0, 0, 1, 1, 1, 1, 1, 1, 0, 0, 0, 0, 0, 1, 1, 0, 0, 0, 0, 0, 0, 1, 1, 0, 1, 1, 0, 1, 1, 1, 1, 1, 0, 0, 1, 1, 1, 1, 0, 0, 1, 1, 1, 0, 0, 0, 0, 0, 0, 0, 0, 0, 0, 1, 1, 0, 1, 0, 0, 1, 0, 0, 0, 0, 0, 0, 1, 1, 0, 1, 0, 1, 0, 0, 0, 0, 0, 0, 0, 0, 1, 1, 0, 1, 1, 0, 1, 1, 0, 1, 0, 1, 1, 1, 0, 0, 1, 1, 0, 1, 0, 1, 1, 0, 0, 0, 0, 1, 1, 0, 0, 0, 1, 1, 1, 0, 1, 1, 1, 1, 0, 0, 1, 0, 0, 0, 0, 1, 1, 0, 0, 1, 0, 0, 0, 0, 0, 0, 1, 1, 1, 0, 1, 0, 1, 0, 0, 0, 0, 0, 0, 0, 0, 1, 0, 0, 0, 0, 0, 0, 0, 0, 0, 0, 0, 1, 0, 1, 0, 0, 0, 0, 0, 0, 0, 0, 0, 0, 0, 0, 0, 0, 1, 0, 0, 1, 1, 0, 0, 0, 0, 1, 0, 0, 1, 0, 0, 1, 0, 0, 1, 1, 0, 1, 1, 0, 1, 1, 1, 0, 0, 0, 1, 0, 0, 1, 0, 0, 0, 1, 1, 0, 0, 0, 1, 0, 0, 1, 0, 0, 0, 0, 0, 0, 1, 1, 1, 0, 0, 0, 0, 0, 0, 1, 0, 1, 0, 0, 0, 1, 0, 1, 0, 0, 0, 0, 0, 0, 1, 1, 0, 1, 0, 0, 0, 1, 1, 0, 0, 1, 0, 0, 0, 1, 0, 1, 1, 0, 1, 1, 1, 0, 0, 0, 0, 0, 0, 0, 1, 0, 0, 0, 0, 0, 0, 0, 0, 0, 0, 1, 0, 0, 0, 0, 0, 0, 1, 0, 0, 0, 0, 0, 0, 0, 0, 0, 0, 0, 1, 1, 1, 1, 0, 1, 1, 1, 0, 1, 1, 1, 0, 0, 0, 0, 0, 0, 0, 1, 0, 0, 0, 1, 1, 0, 1, 0, 1, 0, 0, 1, 0, 0, 0, 0, 0, 1, 1, 0, 1, 1, 0, 1, 0, 0, 1, 1, 0, 0, 1, 0, 1, 1, 0, 1, 0, 1, 0, 1, 0, 0, 1, 1, 0, 0, 0, 0, 0, 0, 0, 0, 1, 0, 0, 0, 0, 0, 0, 0, 0, 1, 1, 0, 0, 1, 0, 1, 0, 1, 0, 1, 1, 0, 1, 1, 0, 0, 0, 1, 0, 1, 0, 0, 1, 1, 1, 0, 0, 1, 0, 1, 1, 1, 1, 1, 1, 0, 0, 1, 0, 0, 1, 1, 0, 0, 0, 0, 1, 0, 1, 0, 1, 0, 0, 0, 0, 1, 0, 0, 0, 0, 1, 0, 0, 0, 1, 1, 0, 1, 0, 0, 1, 0, 0, 0, 0, 1, 1, 0, 0, 0, 1, 1, 0, 0, 0, 0, 1, 0, 1, 0, 1, 1, 1, 1, 0, 1, 1, 0, 0, 0, 0, 1, 0, 0, 1, 0, 0, 0, 1, 0, 0, 1, 0, 0, 0, 0, 0, 1, 0, 0, 0, 0, 0, 1, 1, 0, 1, 0, 0, 0, 0, 0, 0, 0, 1, 0, 0, 1, 0, 0, 0, 0, 1, 1, 0, 1, 1, 0, 0, 0, 0, 0, 0, 0, 1, 0, 0, 1, 0, 0, 0, 1, 0, 0, 0, 0, 0, 0, 0, 1, 1, 0, 0, 0, 0, 0, 0, 0, 0, 1, 1, 0, 0, 1, 0, 0, 1, 0, 0, 0, 1, 0, 0, 0, 0, 1, 1, 1, 1, 0, 1, 0, 0, 1, 0, 1, 0, 1, 1, 1, 1, 0, 0, 0, 1, 0, 0, 0, 1, 1, 0, 0, 1, 0, 0, 1, 0, 0, 0, 0, 0, 0, 1, 0, 0, 1, 0, 0, 0, 0, 1, 1, 0, 0, 1, 0, 0, 0, 0, 1, 0, 0, 1, 0, 0, 0, 0, 0, 0, 1, 1, 0, 1, 0, 1, 0, 1, 0, 1, 0, 1, 0, 1, 0, 0, 1, 0, 1, 1, 1, 0, 0, 1, 0, 1, 0, 1, 0, 1, 1, 0, 1, 0, 0, 0, 1, 0, 0, 0, 1, 0, 0, 0, 0, 0, 1, 0, 0, 0, 1, 1, 0, 0, 0, 0, 1, 0, 1, 1, 1, 0, 0, 1, 1, 1, 0, 0, 0, 1, 1, 1, 1, 1, 0, 0, 0, 0, 0, 1, 1, 0, 0, 1, 1, 0, 1, 1, 0, 1, 1, 0, 1, 0, 0, 1, 1, 1, 0, 0, 1, 0, 0, 1, 0, 1, 0, 0, 0, 1, 1, 0, 0, 0, 0, 1, 1, 0, 0, 0, 1, 0, 0, 1, 0, 0, 0, 0, 0, 0, 0, 0, 1, 0, 0, 0, 1, 0, 0, 0, 1, 0, 1, 1, 0, 0, 0, 1, 1, 0, 0, 1, 1, 1, 0, 0, 0, 0, 0, 1, 0, 0, 0, 0, 1, 0, 0, 0, 1, 0, 0, 1, 1, 0, 0, 1, 1, 0, 1, 0, 0, 1, 1, 1, 0, 1, 0, 0, 1, 1, 1, 1, 0, 0, 1, 0, 0, 1, 0, 1, 0, 1, 1, 1, 0, 0, 0, 1, 1, 0, 1, 1, 0, 0, 1, 1, 0, 1, 0, 1, 1, 0, 0]\n"
     ]
    }
   ],
   "source": [
    "print(len(y_test))\n",
    "print(y_test)"
   ]
  },
  {
   "cell_type": "code",
   "execution_count": 32,
   "metadata": {},
   "outputs": [
    {
     "name": "stdout",
     "output_type": "stream",
     "text": [
      "[0. 1. 1. ... 0. 0. 0.]\n"
     ]
    }
   ],
   "source": [
    "y_svr_predicted=np.around(y_svr_predicted)\n",
    "len(y_svr_predicted)\n",
    "print(y_svr_predicted)"
   ]
  },
  {
   "cell_type": "code",
   "execution_count": 33,
   "metadata": {},
   "outputs": [
    {
     "name": "stdout",
     "output_type": "stream",
     "text": [
      "2544\n",
      "63\n"
     ]
    }
   ],
   "source": [
    "t=(y_test == y_svr_predicted).sum()\n",
    "print((y_test == y_svr_predicted).sum())\n",
    "print(t*100/len(y_test))"
   ]
  },
  {
   "cell_type": "code",
   "execution_count": 34,
   "metadata": {},
   "outputs": [],
   "source": [
    "import pickle\n"
   ]
  },
  {
   "cell_type": "code",
   "execution_count": 36,
   "metadata": {},
   "outputs": [],
   "source": [
    "filename_svm = 'svm_models2la.sav'\n",
    "filename_rgr = 'rgr_model2la.sav'"
   ]
  },
  {
   "cell_type": "code",
   "execution_count": 37,
   "metadata": {},
   "outputs": [],
   "source": [
    "pickle.dump(svr,open(filename_svm,'wb'))"
   ]
  },
  {
   "cell_type": "code",
   "execution_count": 38,
   "metadata": {},
   "outputs": [],
   "source": [
    "pickle.dump(rfr,open(filename_rgr,'wb'))"
   ]
  },
  {
   "cell_type": "code",
   "execution_count": null,
   "metadata": {},
   "outputs": [],
   "source": []
  }
 ],
 "metadata": {
  "kernelspec": {
   "display_name": "Python 2",
   "language": "python",
   "name": "python2"
  },
  "language_info": {
   "codemirror_mode": {
    "name": "ipython",
    "version": 3
   },
   "file_extension": ".py",
   "mimetype": "text/x-python",
   "name": "python",
   "nbconvert_exporter": "python",
   "pygments_lexer": "ipython3",
   "version": "3.5.2"
  }
 },
 "nbformat": 4,
 "nbformat_minor": 2
}
